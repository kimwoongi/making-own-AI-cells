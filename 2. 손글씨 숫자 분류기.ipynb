{
  "nbformat": 4,
  "nbformat_minor": 0,
  "metadata": {
    "colab": {
      "name": "2. 손글씨 숫자 분류기.ipynb",
      "provenance": [],
      "collapsed_sections": [],
      "include_colab_link": true
    },
    "kernelspec": {
      "name": "python3",
      "display_name": "Python 3"
    },
    "accelerator": "TPU"
  },
  "cells": [
    {
      "cell_type": "markdown",
      "metadata": {
        "id": "view-in-github",
        "colab_type": "text"
      },
      "source": [
        "<a href=\"https://colab.research.google.com/github/kimwoongi/making-own-AI-cells/blob/master/2.%20%EC%86%90%EA%B8%80%EC%94%A8%20%EC%88%AB%EC%9E%90%20%EB%B6%84%EB%A5%98%EA%B8%B0.ipynb\" target=\"_parent\"><img src=\"https://colab.research.google.com/assets/colab-badge.svg\" alt=\"Open In Colab\"/></a>"
      ]
    },
    {
      "cell_type": "markdown",
      "source": [
        "# 손글씨 숫자 분류기"
      ],
      "metadata": {
        "id": "_B46r5Rbs2C1"
      }
    },
    {
      "cell_type": "markdown",
      "metadata": {
        "id": "MzvRt0oJf92U"
      },
      "source": [
        "### 1. 데이터셋 : MNIST"
      ]
    },
    {
      "cell_type": "code",
      "metadata": {
        "id": "wpySkkTzlIiy",
        "outputId": "74d76480-4ebc-4b5c-902c-aaab9759b7e0",
        "colab": {
          "base_uri": "https://localhost:8080/",
          "height": 334
        }
      },
      "source": [
        "from tensorflow.keras import datasets                             # 데이터셋 다운로드 함수\n",
        "import matplotlib.pyplot as plt                                   # 이미지 표시용 라이브러리 \n",
        "\n",
        "(x, y), (x_test, y_test) = datasets.mnist.load_data()             # keras에서 제공하는 데이터셋 불러오기\n",
        "\n",
        "i = 0\n",
        "plt.imshow(x[i], cmap='gray')                                     # i번째 데이터를 이미지로 보이기\n",
        "plt.show()\n",
        "print(f'{i}번째 데이터 : {y[i]}')\n"
      ],
      "execution_count": null,
      "outputs": [
        {
          "output_type": "stream",
          "name": "stdout",
          "text": [
            "Downloading data from https://storage.googleapis.com/tensorflow/tf-keras-datasets/mnist.npz\n",
            "11493376/11490434 [==============================] - 0s 0us/step\n",
            "11501568/11490434 [==============================] - 0s 0us/step\n"
          ]
        },
        {
          "output_type": "display_data",
          "data": {
            "image/png": "[encoded data removed]",
            "text/plain": [
              "<Figure size 432x288 with 1 Axes>"
            ]
          },
          "metadata": {
            "needs_background": "light"
          }
        },
        {
          "output_type": "stream",
          "name": "stdout",
          "text": [
            "0번째 데이터 : 5\n"
          ]
        }
      ]
    },
    {
      "cell_type": "markdown",
      "source": [
        "### 2. 전처리"
      ],
      "metadata": {
        "id": "EjvOD7EVzNdp"
      }
    },
    {
      "cell_type": "code",
      "source": [
        "import numpy as np                                                # 빠른 배열 연산용 라이브러리\n",
        "from keras.utils import np_utils                                  # 라벨데이터 전처리 함수\n",
        "\n",
        "x = x.reshape(-1, 784) / 255                                      # x 학습 데이터 전처리 : 가로세로 28*28 픽셀을 일렬(784)로 재배치 후 0~1 범위로 스케일 노멀라이즈\n",
        "x_test = x.reshape(-1, 784) / 255                                 # x 테스트 데이터 전처리\n",
        "y = np_utils.to_categorical(y)                                    # y 학습 데이터 전처리 : 0~9 까지의 숫자를 각각의 값에 해당되는 벡터로 변환\n",
        "y_test = np_utils.to_categorical(y_test)                          # y 테스트 데이터 전처리"
      ],
      "metadata": {
        "id": "vownFVGRxByT"
      },
      "execution_count": null,
      "outputs": []
    },
    {
      "cell_type": "markdown",
      "metadata": {
        "id": "lwy6dDCSdu2w"
      },
      "source": [
        "### 3.  모델"
      ]
    },
    {
      "cell_type": "code",
      "metadata": {
        "id": "G8sIE2Kpa0KG",
        "outputId": "6f0014ea-3dba-4eab-d2ed-1827c4caa1d0",
        "colab": {
          "base_uri": "https://localhost:8080/"
        }
      },
      "source": [
        "from keras.models import Sequential\n",
        "from keras.layers import Dense\n",
        "\n",
        "model = Sequential()\n",
        "model.add(Dense(100, activation='relu', input_shape=(784,), name='hidden_1'))   # activation 은 출력값에 특정 함수를 거치게 하는 과정\n",
        "model.add(Dense(50, activation='relu', name='hidden_2'))                        # relu는 출력값이 음수일 경우 0으로 바꾸어서 음수를 필터링\n",
        "model.add(Dense(10, activation='softmax', name='output'))                       # softmax는 각 출력은 0~1 사이의 값을 가지며 전체합은 1이 되어서 출력이 확률처럼 보이게 만듦\n",
        "model.compile('adam', 'categorical_crossentropy', ['accuracy'])\n",
        "model.summary()\n"
      ],
      "execution_count": null,
      "outputs": [
        {
          "output_type": "stream",
          "name": "stdout",
          "text": [
            "Model: \"sequential\"\n",
            "_________________________________________________________________\n",
            " Layer (type)                Output Shape              Param #   \n",
            "=================================================================\n",
            " hidden_1 (Dense)            (None, 100)               78500     \n",
            "                                                                 \n",
            " hidden_2 (Dense)            (None, 50)                5050      \n",
            "                                                                 \n",
            " output (Dense)              (None, 10)                510       \n",
            "                                                                 \n",
            "=================================================================\n",
            "Total params: 84,060\n",
            "Trainable params: 84,060\n",
            "Non-trainable params: 0\n",
            "_________________________________________________________________\n"
          ]
        }
      ]
    },
    {
      "cell_type": "markdown",
      "metadata": {
        "id": "IAvDmKr_i3jt"
      },
      "source": [
        "### 4. 학습"
      ]
    },
    {
      "cell_type": "code",
      "metadata": {
        "id": "laxpeFqPm14t",
        "outputId": "8bb1d12a-067e-4e5d-e30a-a5b3eb043110",
        "colab": {
          "base_uri": "https://localhost:8080/"
        }
      },
      "source": [
        "history = model.fit(x, y, epochs=10, batch_size=54000, validation_split=0.1)\n",
        "# batch_size : 그래픽카드에 한꺼번에 입력넣을 데이터의 개수, validation_split=0.1 : 10% 만큼은 검증 데이터셋으로 분리\n"
      ],
      "execution_count": null,
      "outputs": [
        {
          "output_type": "stream",
          "name": "stdout",
          "text": [
            "Epoch 1/10\n",
            "1/1 [==============================] - 3s 3s/step - loss: 2.3194 - accuracy: 0.1137 - val_loss: 2.2355 - val_accuracy: 0.1897\n",
            "Epoch 2/10\n",
            "1/1 [==============================] - 1s 1s/step - loss: 2.2417 - accuracy: 0.1796 - val_loss: 2.1624 - val_accuracy: 0.2785\n",
            "Epoch 3/10\n",
            "1/1 [==============================] - 1s 1s/step - loss: 2.1711 - accuracy: 0.2664 - val_loss: 2.0919 - val_accuracy: 0.3805\n",
            "Epoch 4/10\n",
            "1/1 [==============================] - 1s 1s/step - loss: 2.1031 - accuracy: 0.3518 - val_loss: 2.0207 - val_accuracy: 0.4645\n",
            "Epoch 5/10\n",
            "1/1 [==============================] - 1s 852ms/step - loss: 2.0346 - accuracy: 0.4345 - val_loss: 1.9466 - val_accuracy: 0.5402\n",
            "Epoch 6/10\n",
            "1/1 [==============================] - 1s 552ms/step - loss: 1.9634 - accuracy: 0.5094 - val_loss: 1.8684 - val_accuracy: 0.6023\n",
            "Epoch 7/10\n",
            "1/1 [==============================] - 1s 551ms/step - loss: 1.8886 - accuracy: 0.5689 - val_loss: 1.7860 - val_accuracy: 0.6455\n",
            "Epoch 8/10\n",
            "1/1 [==============================] - 1s 571ms/step - loss: 1.8103 - accuracy: 0.6152 - val_loss: 1.7004 - val_accuracy: 0.6810\n",
            "Epoch 9/10\n",
            "1/1 [==============================] - 1s 518ms/step - loss: 1.7292 - accuracy: 0.6494 - val_loss: 1.6130 - val_accuracy: 0.7050\n",
            "Epoch 10/10\n",
            "1/1 [==============================] - 1s 539ms/step - loss: 1.6468 - accuracy: 0.6765 - val_loss: 1.5249 - val_accuracy: 0.7247\n"
          ]
        }
      ]
    },
    {
      "cell_type": "markdown",
      "metadata": {
        "id": "MZvAaHScjwjV"
      },
      "source": [
        "### 5. 예측"
      ]
    },
    {
      "cell_type": "code",
      "metadata": {
        "id": "ygKeavdOoYD6",
        "outputId": "f4d9c024-6dd4-4212-ce8f-146956d7e9dd",
        "colab": {
          "base_uri": "https://localhost:8080/",
          "height": 282
        }
      },
      "source": [
        "i = 13\n",
        "x_show = x.reshape(-1, 28, 28)            # 이미지 후처리\n",
        "predict = model.predict(x)\n",
        "y_show = np.argmax(predict[i])\n",
        "print('예측값:', y_show)                  # 라벨값 후처리\n",
        "plt.imshow(x_show[i], cmap='gray')\n",
        "plt.show()\n"
      ],
      "execution_count": null,
      "outputs": [
        {
          "output_type": "stream",
          "name": "stdout",
          "text": [
            "예측값: 6\n"
          ]
        },
        {
          "output_type": "display_data",
          "data": {
            "image/png": "[encoded data removed]",
            "text/plain": [
              "<Figure size 432x288 with 1 Axes>"
            ]
          },
          "metadata": {
            "needs_background": "light"
          }
        }
      ]
    }
  ]
}