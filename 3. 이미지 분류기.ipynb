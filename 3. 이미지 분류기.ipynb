{
  "nbformat": 4,
  "nbformat_minor": 0,
  "metadata": {
    "colab": {
      "name": "3. 이미지 분류기.ipynb",
      "provenance": [],
      "collapsed_sections": [],
      "include_colab_link": true
    },
    "kernelspec": {
      "name": "python3",
      "display_name": "Python 3"
    },
    "accelerator": "GPU"
  },
  "cells": [
    {
      "cell_type": "markdown",
      "metadata": {
        "id": "view-in-github",
        "colab_type": "text"
      },
      "source": [
        "<a href=\"https://colab.research.google.com/github/kimwoongi/making-own-AI-cells/blob/master/3.%20%EC%9D%B4%EB%AF%B8%EC%A7%80%20%EB%B6%84%EB%A5%98%EA%B8%B0.ipynb\" target=\"_parent\"><img src=\"https://colab.research.google.com/assets/colab-badge.svg\" alt=\"Open In Colab\"/></a>"
      ]
    },
    {
      "cell_type": "markdown",
      "metadata": {
        "id": "5QFZ6i-NkQHk"
      },
      "source": [
        "# 이미지 분류기"
      ]
    },
    {
      "cell_type": "markdown",
      "source": [
        "### 1. 데이터셋 : CIFAR10"
      ],
      "metadata": {
        "id": "dcs2UGMB1qIz"
      }
    },
    {
      "cell_type": "code",
      "metadata": {
        "id": "K7PuYIaisdry",
        "outputId": "c7d467b8-5015-4e60-9809-af3b08615ce4",
        "colab": {
          "base_uri": "https://localhost:8080/",
          "height": 353
        }
      },
      "source": [
        "from tensorflow.keras import datasets                             # 데이터셋 다운로드 함수\n",
        "import matplotlib.pyplot as plt                                   # 이미지 표시용 라이브러리 \n",
        "\n",
        "(x, y), (x_test, y_test) = datasets.cifar10.load_data()           # keras에서 제공하는 데이터셋 불러오기\n",
        "\n",
        "index2name = {\n",
        "    0: '비행기',\n",
        "    1: '작은차',\n",
        "    2: '새',\n",
        "    3: '고양이',\n",
        "    4: '사슴',\n",
        "    5: '댕댕이',\n",
        "    6: '개구리',\n",
        "    7: '말',\n",
        "    8: '배',\n",
        "    9: '큰차'\n",
        "}\n",
        "\n",
        "i = 0\n",
        "plt.imshow(x[i])                                     # i번째 데이터를 이미지로 보이기\n",
        "plt.show()\n",
        "print(f'{i}번째 데이터 : {index2name[y[i][0]]}')\n",
        "\n",
        "print(x.shape)\n",
        "print(x_test.shape)\n",
        "\n",
        "print(y.shape)\n",
        "print(y_test.shape)"
      ],
      "execution_count": null,
      "outputs": [
        {
          "output_type": "display_data",
          "data": {
            "image/png": "[encoded data removed]",
            "text/plain": [
              "<Figure size 432x288 with 1 Axes>"
            ]
          },
          "metadata": {
            "needs_background": "light"
          }
        },
        {
          "output_type": "stream",
          "name": "stdout",
          "text": [
            "0번째 데이터 : 개구리\n",
            "(50000, 32, 32, 3)\n",
            "(10000, 32, 32, 3)\n",
            "(50000, 1)\n",
            "(10000, 1)\n"
          ]
        }
      ]
    },
    {
      "cell_type": "markdown",
      "source": [
        "### 2. 전처리"
      ],
      "metadata": {
        "id": "HAikFjUM4C9N"
      }
    },
    {
      "cell_type": "code",
      "source": [
        "import numpy as np                        # 빠른 배열 연산용 라이브러리\n",
        "from keras.utils import np_utils          # 라벨데이터 전처리 함수\n",
        "\n",
        "x = x / 255                               # x 학습 데이터 전처리 : 0~1 범위로 스케일 노멀라이즈\n",
        "x_test = x_test / 255                     # x 테스트 데이터 전처리\n",
        "\n",
        "y = y.reshape(-1)\n",
        "y = np_utils.to_categorical(y)            # y 학습 데이터 전처리 : 0~9 까지의 숫자를 각각의 값에 해당되는 벡터로 변환\n",
        "y_test = y_test.reshape(-1)\n",
        "y_test = np_utils.to_categorical(y_test)  # y 테스트 데이터 전처리\n",
        "\n",
        "print(y.shape)\n",
        "print(y_test.shape)"
      ],
      "metadata": {
        "colab": {
          "base_uri": "https://localhost:8080/"
        },
        "id": "OkQmXLl23h8H",
        "outputId": "f79492cf-8763-4886-f0ca-22519ded182b"
      },
      "execution_count": null,
      "outputs": [
        {
          "output_type": "stream",
          "name": "stdout",
          "text": [
            "(50000, 10)\n",
            "(10000, 10)\n"
          ]
        }
      ]
    },
    {
      "cell_type": "markdown",
      "source": [
        "### 3. 모델"
      ],
      "metadata": {
        "id": "bngz62ko4GV5"
      }
    },
    {
      "cell_type": "code",
      "metadata": {
        "id": "s9hrRdfq5TXc",
        "outputId": "55fe4671-d385-408f-ba44-fd0fee0d66dc",
        "colab": {
          "base_uri": "https://localhost:8080/"
        }
      },
      "source": [
        "from keras.models import Sequential\n",
        "from keras.layers import Conv2D, BatchNormalization, Activation, MaxPool2D, Flatten, Dense\n",
        "\n",
        "model = Sequential()\n",
        "model.add(Conv2D(64, 3, padding='same', input_shape=(32, 32, 3)))\n",
        "model.add(BatchNormalization())\n",
        "model.add(Activation('relu'))\n",
        "model.add(Conv2D(64, 3, padding='same'))        # 3*3 크기의 컨볼루션 연산\n",
        "model.add(BatchNormalization())                 # 배치 정규화\n",
        "model.add(Activation('relu'))\n",
        "model.add(MaxPool2D())                          # 2*2 영역당 최댓값 추출\n",
        "\n",
        "model.add(Conv2D(128, (3, 3), padding='same'))\n",
        "model.add(BatchNormalization())\n",
        "model.add(Activation('relu'))\n",
        "model.add(Conv2D(128, (3, 3), padding='same'))\n",
        "model.add(BatchNormalization())\n",
        "model.add(Activation('relu'))\n",
        "model.add(MaxPool2D())\n",
        "\n",
        "model.add(Conv2D(256, (3, 3), padding='same'))\n",
        "model.add(BatchNormalization())\n",
        "model.add(Activation('relu'))\n",
        "model.add(Conv2D(256, (3, 3), padding='same'))\n",
        "model.add(BatchNormalization())\n",
        "model.add(Activation('relu'))\n",
        "model.add(Conv2D(256, (3, 3), padding='same'))\n",
        "model.add(BatchNormalization())\n",
        "model.add(Activation('relu'))\n",
        "model.add(MaxPool2D())\n",
        "\n",
        "model.add(Conv2D(512, (3, 3), padding='same'))\n",
        "model.add(BatchNormalization())\n",
        "model.add(Activation('relu'))\n",
        "model.add(Conv2D(512, (3, 3), padding='same'))\n",
        "model.add(BatchNormalization())\n",
        "model.add(Activation('relu'))\n",
        "model.add(Conv2D(512, (3, 3), padding='same'))\n",
        "model.add(MaxPool2D())\n",
        "\n",
        "model.add(Conv2D(512, (3, 3), padding='same'))\n",
        "model.add(BatchNormalization())\n",
        "model.add(Activation('relu'))\n",
        "model.add(Conv2D(512, (3, 3), padding='same'))\n",
        "model.add(BatchNormalization())\n",
        "model.add(Activation('relu'))\n",
        "model.add(Conv2D(512, (3, 3), padding='same'))\n",
        "model.add(MaxPool2D())\n",
        "\n",
        "model.add(Flatten())\n",
        "model.add(Dense(512))\n",
        "model.add(BatchNormalization())\n",
        "model.add(Activation('relu'))\n",
        "model.add(Dense(10, activation='softmax'))\n",
        "\n",
        "model.compile('adam', 'categorical_crossentropy', ['accuracy'])\n",
        "model.summary()"
      ],
      "execution_count": null,
      "outputs": [
        {
          "output_type": "stream",
          "name": "stdout",
          "text": [
            "Model: \"sequential\"\n",
            "_________________________________________________________________\n",
            " Layer (type)                Output Shape              Param #   \n",
            "=================================================================\n",
            " conv2d (Conv2D)             (None, 32, 32, 64)        1792      \n",
            "                                                                 \n",
            " batch_normalization (BatchN  (None, 32, 32, 64)       256       \n",
            " ormalization)                                                   \n",
            "                                                                 \n",
            " activation (Activation)     (None, 32, 32, 64)        0         \n",
            "                                                                 \n",
            " conv2d_1 (Conv2D)           (None, 32, 32, 64)        36928     \n",
            "                                                                 \n",
            " batch_normalization_1 (Batc  (None, 32, 32, 64)       256       \n",
            " hNormalization)                                                 \n",
            "                                                                 \n",
            " activation_1 (Activation)   (None, 32, 32, 64)        0         \n",
            "                                                                 \n",
            " max_pooling2d (MaxPooling2D  (None, 16, 16, 64)       0         \n",
            " )                                                               \n",
            "                                                                 \n",
            " conv2d_2 (Conv2D)           (None, 16, 16, 128)       73856     \n",
            "                                                                 \n",
            " batch_normalization_2 (Batc  (None, 16, 16, 128)      512       \n",
            " hNormalization)                                                 \n",
            "                                                                 \n",
            " activation_2 (Activation)   (None, 16, 16, 128)       0         \n",
            "                                                                 \n",
            " conv2d_3 (Conv2D)           (None, 16, 16, 128)       147584    \n",
            "                                                                 \n",
            " batch_normalization_3 (Batc  (None, 16, 16, 128)      512       \n",
            " hNormalization)                                                 \n",
            "                                                                 \n",
            " activation_3 (Activation)   (None, 16, 16, 128)       0         \n",
            "                                                                 \n",
            " max_pooling2d_1 (MaxPooling  (None, 8, 8, 128)        0         \n",
            " 2D)                                                             \n",
            "                                                                 \n",
            " conv2d_4 (Conv2D)           (None, 8, 8, 256)         295168    \n",
            "                                                                 \n",
            " batch_normalization_4 (Batc  (None, 8, 8, 256)        1024      \n",
            " hNormalization)                                                 \n",
            "                                                                 \n",
            " activation_4 (Activation)   (None, 8, 8, 256)         0         \n",
            "                                                                 \n",
            " conv2d_5 (Conv2D)           (None, 8, 8, 256)         590080    \n",
            "                                                                 \n",
            " batch_normalization_5 (Batc  (None, 8, 8, 256)        1024      \n",
            " hNormalization)                                                 \n",
            "                                                                 \n",
            " activation_5 (Activation)   (None, 8, 8, 256)         0         \n",
            "                                                                 \n",
            " conv2d_6 (Conv2D)           (None, 8, 8, 256)         590080    \n",
            "                                                                 \n",
            " batch_normalization_6 (Batc  (None, 8, 8, 256)        1024      \n",
            " hNormalization)                                                 \n",
            "                                                                 \n",
            " activation_6 (Activation)   (None, 8, 8, 256)         0         \n",
            "                                                                 \n",
            " max_pooling2d_2 (MaxPooling  (None, 4, 4, 256)        0         \n",
            " 2D)                                                             \n",
            "                                                                 \n",
            " conv2d_7 (Conv2D)           (None, 4, 4, 512)         1180160   \n",
            "                                                                 \n",
            " batch_normalization_7 (Batc  (None, 4, 4, 512)        2048      \n",
            " hNormalization)                                                 \n",
            "                                                                 \n",
            " activation_7 (Activation)   (None, 4, 4, 512)         0         \n",
            "                                                                 \n",
            " conv2d_8 (Conv2D)           (None, 4, 4, 512)         2359808   \n",
            "                                                                 \n",
            " batch_normalization_8 (Batc  (None, 4, 4, 512)        2048      \n",
            " hNormalization)                                                 \n",
            "                                                                 \n",
            " activation_8 (Activation)   (None, 4, 4, 512)         0         \n",
            "                                                                 \n",
            " conv2d_9 (Conv2D)           (None, 4, 4, 512)         2359808   \n",
            "                                                                 \n",
            " max_pooling2d_3 (MaxPooling  (None, 2, 2, 512)        0         \n",
            " 2D)                                                             \n",
            "                                                                 \n",
            " conv2d_10 (Conv2D)          (None, 2, 2, 512)         2359808   \n",
            "                                                                 \n",
            " batch_normalization_9 (Batc  (None, 2, 2, 512)        2048      \n",
            " hNormalization)                                                 \n",
            "                                                                 \n",
            " activation_9 (Activation)   (None, 2, 2, 512)         0         \n",
            "                                                                 \n",
            " conv2d_11 (Conv2D)          (None, 2, 2, 512)         2359808   \n",
            "                                                                 \n",
            " batch_normalization_10 (Bat  (None, 2, 2, 512)        2048      \n",
            " chNormalization)                                                \n",
            "                                                                 \n",
            " activation_10 (Activation)  (None, 2, 2, 512)         0         \n",
            "                                                                 \n",
            " conv2d_12 (Conv2D)          (None, 2, 2, 512)         2359808   \n",
            "                                                                 \n",
            " max_pooling2d_4 (MaxPooling  (None, 1, 1, 512)        0         \n",
            " 2D)                                                             \n",
            "                                                                 \n",
            " flatten (Flatten)           (None, 512)               0         \n",
            "                                                                 \n",
            " dense (Dense)               (None, 512)               262656    \n",
            "                                                                 \n",
            " batch_normalization_11 (Bat  (None, 512)              2048      \n",
            " chNormalization)                                                \n",
            "                                                                 \n",
            " activation_11 (Activation)  (None, 512)               0         \n",
            "                                                                 \n",
            " dense_1 (Dense)             (None, 10)                5130      \n",
            "                                                                 \n",
            "=================================================================\n",
            "Total params: 14,997,322\n",
            "Trainable params: 14,989,898\n",
            "Non-trainable params: 7,424\n",
            "_________________________________________________________________\n"
          ]
        }
      ]
    },
    {
      "cell_type": "markdown",
      "source": [
        "### 4. 학습"
      ],
      "metadata": {
        "id": "LKenj-Pf6fzE"
      }
    },
    {
      "cell_type": "code",
      "metadata": {
        "id": "uypkbiT9-zHo",
        "outputId": "6c2b9285-f783-4648-9393-6b082518f638",
        "colab": {
          "base_uri": "https://localhost:8080/"
        }
      },
      "source": [
        "history = model.fit(x, y, 1000, 10, validation_data=(x_test, y_test))"
      ],
      "execution_count": null,
      "outputs": [
        {
          "output_type": "stream",
          "name": "stdout",
          "text": [
            "Epoch 1/10\n",
            "50/50 [==============================] - 60s 851ms/step - loss: 1.7059 - accuracy: 0.3562 - val_loss: 6.7455 - val_accuracy: 0.1000\n",
            "Epoch 2/10\n",
            "50/50 [==============================] - 42s 837ms/step - loss: 1.1375 - accuracy: 0.5820 - val_loss: 4.5342 - val_accuracy: 0.1000\n",
            "Epoch 3/10\n",
            "50/50 [==============================] - 42s 840ms/step - loss: 0.8530 - accuracy: 0.6914 - val_loss: 3.0962 - val_accuracy: 0.1095\n",
            "Epoch 4/10\n",
            "50/50 [==============================] - 42s 839ms/step - loss: 0.6715 - accuracy: 0.7615 - val_loss: 5.1375 - val_accuracy: 0.1170\n",
            "Epoch 5/10\n",
            "50/50 [==============================] - 42s 838ms/step - loss: 0.5288 - accuracy: 0.8130 - val_loss: 3.2270 - val_accuracy: 0.1658\n",
            "Epoch 6/10\n",
            "50/50 [==============================] - 42s 838ms/step - loss: 0.4153 - accuracy: 0.8545 - val_loss: 5.4949 - val_accuracy: 0.1584\n",
            "Epoch 7/10\n",
            "50/50 [==============================] - 42s 838ms/step - loss: 0.3245 - accuracy: 0.8863 - val_loss: 3.6073 - val_accuracy: 0.2848\n",
            "Epoch 8/10\n",
            "50/50 [==============================] - 42s 837ms/step - loss: 0.2556 - accuracy: 0.9116 - val_loss: 1.5684 - val_accuracy: 0.5522\n",
            "Epoch 9/10\n",
            "50/50 [==============================] - 42s 838ms/step - loss: 0.2063 - accuracy: 0.9289 - val_loss: 1.7277 - val_accuracy: 0.6116\n",
            "Epoch 10/10\n",
            "50/50 [==============================] - 42s 838ms/step - loss: 0.1534 - accuracy: 0.9475 - val_loss: 1.8063 - val_accuracy: 0.6112\n"
          ]
        }
      ]
    },
    {
      "cell_type": "markdown",
      "source": [
        "### 5. 예측"
      ],
      "metadata": {
        "id": "HysSFFJm6h7B"
      }
    },
    {
      "cell_type": "code",
      "metadata": {
        "id": "ADUN77KZG_dY",
        "outputId": "41503635-696b-4365-be80-ee2fafd68fda",
        "colab": {
          "base_uri": "https://localhost:8080/",
          "height": 283
        }
      },
      "source": [
        "i = 9\n",
        "x_show = x_test\n",
        "predict = model.predict(x_show[i:i+1])\n",
        "\n",
        "class_index = np.argmax(predict[0])\n",
        "class_name = index2name[class_index]\n",
        "\n",
        "print('예측:', class_name)\n",
        "plt.imshow(x_show[i])\n",
        "plt.show()\n"
      ],
      "execution_count": null,
      "outputs": [
        {
          "output_type": "stream",
          "name": "stdout",
          "text": [
            "예측: 큰차\n"
          ]
        },
        {
          "output_type": "display_data",
          "data": {
            "image/png": "[encoded data removed]",
            "text/plain": [
              "<Figure size 432x288 with 1 Axes>"
            ]
          },
          "metadata": {
            "needs_background": "light"
          }
        }
      ]
    }
  ]
}