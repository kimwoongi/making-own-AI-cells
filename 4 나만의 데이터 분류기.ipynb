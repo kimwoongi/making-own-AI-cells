{
  "nbformat": 4,
  "nbformat_minor": 0,
  "metadata": {
    "colab": {
      "name": "4 나만의 데이터 분류기.ipynb",
      "version": "0.3.2",
      "provenance": [],
      "collapsed_sections": []
    },
    "kernelspec": {
      "name": "python3",
      "display_name": "Python 3"
    },
    "accelerator": "GPU"
  },
  "cells": [
    {
      "metadata": {
        "id": "MJvVnvirY-xa",
        "colab_type": "text"
      },
      "cell_type": "markdown",
      "source": [
        "# 공사중"
      ]
    },
    {
      "metadata": {
        "id": "JI6I_EpJfxTN",
        "colab_type": "code",
        "colab": {}
      },
      "cell_type": "code",
      "source": [
        "index2name = {\n",
        "    0: '마카롱',\n",
        "    1: '티라미수',\n",
        "    2: '타르트'\n",
        "}\n",
        "\n",
        "몇번학습 = 100\n",
        "학습률 = 1e-5"
      ],
      "execution_count": 0,
      "outputs": []
    },
    {
      "metadata": {
        "id": "P6PZeQhLc_cJ",
        "colab_type": "code",
        "outputId": "2631cc5a-114d-4bb3-ca94-f432bdcb1f86",
        "colab": {
          "base_uri": "https://localhost:8080/",
          "height": 55
        }
      },
      "cell_type": "code",
      "source": [
        "from google.colab import drive\n",
        "drive.mount('/content/gdrive')\n",
        "# drive.mount('/content/gdrive', force_remount=True)\n"
      ],
      "execution_count": 88,
      "outputs": [
        {
          "output_type": "stream",
          "text": [
            "Drive already mounted at /content/gdrive; to attempt to forcibly remount, call drive.mount(\"/content/gdrive\", force_remount=True).\n"
          ],
          "name": "stdout"
        }
      ]
    },
    {
      "metadata": {
        "id": "NRcSmDxzfLjY",
        "colab_type": "code",
        "outputId": "9a869895-81c6-4e7e-b04c-086d259648c3",
        "colab": {
          "base_uri": "https://localhost:8080/",
          "height": 72
        }
      },
      "cell_type": "code",
      "source": [
        "import os\n",
        "import cv2\n",
        "import numpy as np\n",
        "\n",
        "train_path = './gdrive/My Drive/Colab Notebooks/myai/train (1)/'\n",
        "test_path = './gdrive/My Drive/Colab Notebooks/myai/test (1)/'\n",
        "train_files = os.listdir(train_path)\n",
        "test_files = os.listdir(test_path)\n",
        "\n",
        "x = [cv2.imread(train_path + file) for file in train_files]\n",
        "x = [cv2.cvtColor(each, cv2.COLOR_BGR2RGB) / 255 for each in x]\n",
        "x = np.asarray([cv2.resize(each, (32, 32), interpolation=cv2.INTER_CUBIC) for each in x])\n",
        "\n",
        "x_test = [cv2.imread(test_path + file) for file in test_files]\n",
        "x_test = [cv2.cvtColor(each, cv2.COLOR_BGR2RGB) / 255for each in x_test]\n",
        "x_test = np.asarray([cv2.resize(each, (32, 32), interpolation=cv2.INTER_CUBIC) for each in x_test])\n",
        "\n",
        "y = [int(file.split('_')[0]) for file in train_files] \n",
        "y_test = [int(file.split('_')[0]) for file in test_files] \n",
        "num_classes = len(index2name)\n",
        "eye = np.eye(num_classes)\n",
        "y = np.asarray([eye[each] for each in y])\n",
        "y_test = np.asarray([eye[each] for each in y_test])\n",
        "\n",
        "print('num_classes:', num_classes)\n",
        "print('x_shape:', x.shape)\n",
        "print('y_shape:', y.shape)\n"
      ],
      "execution_count": 89,
      "outputs": [
        {
          "output_type": "stream",
          "text": [
            "num_classes: 3\n",
            "x_shape: (30, 32, 32, 3)\n",
            "y_shape: (30, 3)\n"
          ],
          "name": "stdout"
        }
      ]
    },
    {
      "metadata": {
        "id": "Cu9Rlc17Wfiz",
        "colab_type": "code",
        "colab": {
          "base_uri": "https://localhost:8080/",
          "height": 35
        },
        "outputId": "8c524905-04fd-4e05-b3cf-c316f2d90589"
      },
      "cell_type": "code",
      "source": [
        "# ls './gdrive/My Drive/Colab Notebooks/myai/'"
      ],
      "execution_count": 25,
      "outputs": [
        {
          "output_type": "stream",
          "text": [
            "\u001b[0m\u001b[01;34m'test (1)'\u001b[0m/  \u001b[01;34m'train (1)'\u001b[0m/\n"
          ],
          "name": "stdout"
        }
      ]
    },
    {
      "metadata": {
        "id": "l2zC9DkNPKu4",
        "colab_type": "code",
        "colab": {}
      },
      "cell_type": "code",
      "source": [
        "# x = [cv2.imread(train_path + file) for file in train_files]\n",
        "# x_height = np.array([each.shape[0] for each in x])\n",
        "# x_width = np.array([each.shape[1] for each in x])\n",
        "# x_min_wh = np.array([min(x_height[i], x_width[i]) for i in range(len(x))])\n",
        "# p_h_min = x_height//2 - x_min_wh//2\n",
        "# p_h_max = x_height//2 + x_min_wh//2\n",
        "# p_w_min = x_width//2 - x_min_wh//2\n",
        "# p_w_max = x_width//2 + x_min_wh//2\n",
        "# x = [each[p_h_min[i]:p_h_max[i], p_w_min[i]:p_w_max[i]] / 127.5 - 1 for i, each in enumerate(x)]\n",
        "# x = np.asarray([cv2.resize(each, (100, 100), interpolation=cv2.INTER_CUBIC) for each in x])\n",
        "\n",
        "# x_test = [cv2.imread(test_path + file) for file in test_files]\n",
        "# x_height = np.array([each.shape[0] for each in x_test])\n",
        "# x_width = np.array([each.shape[1] for each in x_test])\n",
        "# x_min_wh = np.array([min(x_height[i], x_width[i]) for i in range(len(x_test))])\n",
        "# p_h_min = x_height//2 - x_min_wh//2\n",
        "# p_h_max = x_height//2 + x_min_wh//2\n",
        "# p_w_min = x_width//2 - x_min_wh//2\n",
        "# p_w_max = x_width//2 + x_min_wh//2\n",
        "# x_test = [each[p_h_min[i]:p_h_max[i], p_w_min[i]:p_w_max[i]] / 127.5 - 1 for i, each in enumerate(x_test)]\n",
        "# x_test = np.asarray([cv2.resize(each, (100, 100), interpolation=cv2.INTER_CUBIC) for each in x_test])\n"
      ],
      "execution_count": 0,
      "outputs": []
    },
    {
      "metadata": {
        "id": "JGO805Igq4v8",
        "colab_type": "code",
        "outputId": "9a4fee73-48c1-40b1-d81b-b3f52f1f91f4",
        "colab": {
          "base_uri": "https://localhost:8080/",
          "height": 1802
        }
      },
      "cell_type": "code",
      "source": [
        "from keras.models import Sequential\n",
        "from keras.layers import Conv2D, BatchNormalization, Activation, MaxPool2D, Flatten, Dense\n",
        "from keras.optimizers import Adam, SGD\n",
        "\n",
        "act = 'tanh'\n",
        "\n",
        "model = Sequential()\n",
        "model.add(Conv2D(64, 3, padding='same', input_shape=(32, 32, 3)))\n",
        "model.add(BatchNormalization())\n",
        "model.add(Activation(act))\n",
        "model.add(Conv2D(64, 3, padding='same'))\n",
        "model.add(BatchNormalization())\n",
        "model.add(Activation(act))\n",
        "model.add(MaxPool2D())\n",
        "\n",
        "model.add(Conv2D(128, (3, 3), padding='same'))\n",
        "model.add(BatchNormalization())\n",
        "model.add(Activation(act))\n",
        "model.add(Conv2D(128, (3, 3), padding='same'))\n",
        "model.add(BatchNormalization())\n",
        "model.add(Activation(act))\n",
        "model.add(MaxPool2D())\n",
        "\n",
        "model.add(Conv2D(256, (3, 3), padding='same'))\n",
        "model.add(BatchNormalization())\n",
        "model.add(Activation(act))\n",
        "model.add(Conv2D(256, (3, 3), padding='same'))\n",
        "model.add(BatchNormalization())\n",
        "model.add(Activation(act))\n",
        "model.add(Conv2D(256, (3, 3), padding='same'))\n",
        "model.add(BatchNormalization())\n",
        "model.add(Activation(act))\n",
        "model.add(MaxPool2D())\n",
        "\n",
        "model.add(Conv2D(512, (3, 3), padding='same'))\n",
        "model.add(BatchNormalization())\n",
        "model.add(Activation(act))\n",
        "model.add(Conv2D(512, (3, 3), padding='same'))\n",
        "model.add(BatchNormalization())\n",
        "model.add(Activation(act))\n",
        "model.add(Conv2D(512, (3, 3), padding='same'))\n",
        "model.add(MaxPool2D())\n",
        "\n",
        "model.add(Conv2D(512, (3, 3), padding='same'))\n",
        "model.add(BatchNormalization())\n",
        "model.add(Activation(act))\n",
        "model.add(Conv2D(512, (3, 3), padding='same'))\n",
        "model.add(BatchNormalization())\n",
        "model.add(Activation(act))\n",
        "model.add(Conv2D(512, (3, 3), padding='same'))\n",
        "model.add(MaxPool2D())\n",
        "\n",
        "model.add(Flatten())\n",
        "model.add(Dense(512))\n",
        "model.add(BatchNormalization())\n",
        "model.add(Activation(act))\n",
        "model.add(Dense(num_classes, activation='softmax'))\n",
        "\n",
        "adam = Adam(lr=학습률)\n",
        "model.compile(adam, 'categorical_crossentropy', ['accuracy'])\n",
        "model.summary()\n"
      ],
      "execution_count": 90,
      "outputs": [
        {
          "output_type": "stream",
          "text": [
            "_________________________________________________________________\n",
            "Layer (type)                 Output Shape              Param #   \n",
            "=================================================================\n",
            "conv2d_92 (Conv2D)           (None, 32, 32, 64)        1792      \n",
            "_________________________________________________________________\n",
            "batch_normalization_85 (Batc (None, 32, 32, 64)        256       \n",
            "_________________________________________________________________\n",
            "activation_85 (Activation)   (None, 32, 32, 64)        0         \n",
            "_________________________________________________________________\n",
            "conv2d_93 (Conv2D)           (None, 32, 32, 64)        36928     \n",
            "_________________________________________________________________\n",
            "batch_normalization_86 (Batc (None, 32, 32, 64)        256       \n",
            "_________________________________________________________________\n",
            "activation_86 (Activation)   (None, 32, 32, 64)        0         \n",
            "_________________________________________________________________\n",
            "max_pooling2d_36 (MaxPooling (None, 16, 16, 64)        0         \n",
            "_________________________________________________________________\n",
            "conv2d_94 (Conv2D)           (None, 16, 16, 128)       73856     \n",
            "_________________________________________________________________\n",
            "batch_normalization_87 (Batc (None, 16, 16, 128)       512       \n",
            "_________________________________________________________________\n",
            "activation_87 (Activation)   (None, 16, 16, 128)       0         \n",
            "_________________________________________________________________\n",
            "conv2d_95 (Conv2D)           (None, 16, 16, 128)       147584    \n",
            "_________________________________________________________________\n",
            "batch_normalization_88 (Batc (None, 16, 16, 128)       512       \n",
            "_________________________________________________________________\n",
            "activation_88 (Activation)   (None, 16, 16, 128)       0         \n",
            "_________________________________________________________________\n",
            "max_pooling2d_37 (MaxPooling (None, 8, 8, 128)         0         \n",
            "_________________________________________________________________\n",
            "conv2d_96 (Conv2D)           (None, 8, 8, 256)         295168    \n",
            "_________________________________________________________________\n",
            "batch_normalization_89 (Batc (None, 8, 8, 256)         1024      \n",
            "_________________________________________________________________\n",
            "activation_89 (Activation)   (None, 8, 8, 256)         0         \n",
            "_________________________________________________________________\n",
            "conv2d_97 (Conv2D)           (None, 8, 8, 256)         590080    \n",
            "_________________________________________________________________\n",
            "batch_normalization_90 (Batc (None, 8, 8, 256)         1024      \n",
            "_________________________________________________________________\n",
            "activation_90 (Activation)   (None, 8, 8, 256)         0         \n",
            "_________________________________________________________________\n",
            "conv2d_98 (Conv2D)           (None, 8, 8, 256)         590080    \n",
            "_________________________________________________________________\n",
            "batch_normalization_91 (Batc (None, 8, 8, 256)         1024      \n",
            "_________________________________________________________________\n",
            "activation_91 (Activation)   (None, 8, 8, 256)         0         \n",
            "_________________________________________________________________\n",
            "max_pooling2d_38 (MaxPooling (None, 4, 4, 256)         0         \n",
            "_________________________________________________________________\n",
            "conv2d_99 (Conv2D)           (None, 4, 4, 512)         1180160   \n",
            "_________________________________________________________________\n",
            "batch_normalization_92 (Batc (None, 4, 4, 512)         2048      \n",
            "_________________________________________________________________\n",
            "activation_92 (Activation)   (None, 4, 4, 512)         0         \n",
            "_________________________________________________________________\n",
            "conv2d_100 (Conv2D)          (None, 4, 4, 512)         2359808   \n",
            "_________________________________________________________________\n",
            "batch_normalization_93 (Batc (None, 4, 4, 512)         2048      \n",
            "_________________________________________________________________\n",
            "activation_93 (Activation)   (None, 4, 4, 512)         0         \n",
            "_________________________________________________________________\n",
            "conv2d_101 (Conv2D)          (None, 4, 4, 512)         2359808   \n",
            "_________________________________________________________________\n",
            "max_pooling2d_39 (MaxPooling (None, 2, 2, 512)         0         \n",
            "_________________________________________________________________\n",
            "conv2d_102 (Conv2D)          (None, 2, 2, 512)         2359808   \n",
            "_________________________________________________________________\n",
            "batch_normalization_94 (Batc (None, 2, 2, 512)         2048      \n",
            "_________________________________________________________________\n",
            "activation_94 (Activation)   (None, 2, 2, 512)         0         \n",
            "_________________________________________________________________\n",
            "conv2d_103 (Conv2D)          (None, 2, 2, 512)         2359808   \n",
            "_________________________________________________________________\n",
            "batch_normalization_95 (Batc (None, 2, 2, 512)         2048      \n",
            "_________________________________________________________________\n",
            "activation_95 (Activation)   (None, 2, 2, 512)         0         \n",
            "_________________________________________________________________\n",
            "conv2d_104 (Conv2D)          (None, 2, 2, 512)         2359808   \n",
            "_________________________________________________________________\n",
            "max_pooling2d_40 (MaxPooling (None, 1, 1, 512)         0         \n",
            "_________________________________________________________________\n",
            "flatten_8 (Flatten)          (None, 512)               0         \n",
            "_________________________________________________________________\n",
            "dense_15 (Dense)             (None, 512)               262656    \n",
            "_________________________________________________________________\n",
            "batch_normalization_96 (Batc (None, 512)               2048      \n",
            "_________________________________________________________________\n",
            "activation_96 (Activation)   (None, 512)               0         \n",
            "_________________________________________________________________\n",
            "dense_16 (Dense)             (None, 3)                 1539      \n",
            "=================================================================\n",
            "Total params: 14,993,731\n",
            "Trainable params: 14,986,307\n",
            "Non-trainable params: 7,424\n",
            "_________________________________________________________________\n"
          ],
          "name": "stdout"
        }
      ]
    },
    {
      "metadata": {
        "id": "3qbxeTYUf32l",
        "colab_type": "code",
        "outputId": "98358529-cbca-41b4-913d-1352a16c4d42",
        "colab": {
          "base_uri": "https://localhost:8080/",
          "height": 3735
        }
      },
      "cell_type": "code",
      "source": [
        "history = model.fit(x, y, epochs=몇번학습, validation_split = 0.1)\n"
      ],
      "execution_count": 91,
      "outputs": [
        {
          "output_type": "stream",
          "text": [
            "Train on 27 samples, validate on 3 samples\n",
            "Epoch 1/100\n",
            "27/27 [==============================] - 8s 308ms/step - loss: 1.3534 - acc: 0.2963 - val_loss: 0.4324 - val_acc: 1.0000\n",
            "Epoch 2/100\n",
            "27/27 [==============================] - 0s 6ms/step - loss: 0.1627 - acc: 1.0000 - val_loss: 0.3125 - val_acc: 1.0000\n",
            "Epoch 3/100\n",
            "27/27 [==============================] - 0s 6ms/step - loss: 0.0273 - acc: 1.0000 - val_loss: 0.2466 - val_acc: 1.0000\n",
            "Epoch 4/100\n",
            "27/27 [==============================] - 0s 5ms/step - loss: 0.0097 - acc: 1.0000 - val_loss: 0.2036 - val_acc: 1.0000\n",
            "Epoch 5/100\n",
            "27/27 [==============================] - 0s 5ms/step - loss: 0.0049 - acc: 1.0000 - val_loss: 0.1740 - val_acc: 1.0000\n",
            "Epoch 6/100\n",
            "27/27 [==============================] - 0s 5ms/step - loss: 0.0030 - acc: 1.0000 - val_loss: 0.1526 - val_acc: 1.0000\n",
            "Epoch 7/100\n",
            "27/27 [==============================] - 0s 5ms/step - loss: 0.0021 - acc: 1.0000 - val_loss: 0.1366 - val_acc: 1.0000\n",
            "Epoch 8/100\n",
            "27/27 [==============================] - 0s 5ms/step - loss: 0.0015 - acc: 1.0000 - val_loss: 0.1241 - val_acc: 1.0000\n",
            "Epoch 9/100\n",
            "27/27 [==============================] - 0s 5ms/step - loss: 0.0012 - acc: 1.0000 - val_loss: 0.1137 - val_acc: 1.0000\n",
            "Epoch 10/100\n",
            "27/27 [==============================] - 0s 4ms/step - loss: 9.8291e-04 - acc: 1.0000 - val_loss: 0.1051 - val_acc: 1.0000\n",
            "Epoch 11/100\n",
            "27/27 [==============================] - 0s 4ms/step - loss: 8.3089e-04 - acc: 1.0000 - val_loss: 0.0979 - val_acc: 1.0000\n",
            "Epoch 12/100\n",
            "27/27 [==============================] - 0s 4ms/step - loss: 7.2041e-04 - acc: 1.0000 - val_loss: 0.0917 - val_acc: 1.0000\n",
            "Epoch 13/100\n",
            "27/27 [==============================] - 0s 4ms/step - loss: 6.3673e-04 - acc: 1.0000 - val_loss: 0.0865 - val_acc: 1.0000\n",
            "Epoch 14/100\n",
            "27/27 [==============================] - 0s 4ms/step - loss: 5.7136e-04 - acc: 1.0000 - val_loss: 0.0820 - val_acc: 1.0000\n",
            "Epoch 15/100\n",
            "27/27 [==============================] - 0s 4ms/step - loss: 5.1955e-04 - acc: 1.0000 - val_loss: 0.0783 - val_acc: 1.0000\n",
            "Epoch 16/100\n",
            "27/27 [==============================] - 0s 4ms/step - loss: 4.7774e-04 - acc: 1.0000 - val_loss: 0.0752 - val_acc: 1.0000\n",
            "Epoch 17/100\n",
            "27/27 [==============================] - 0s 4ms/step - loss: 4.4330e-04 - acc: 1.0000 - val_loss: 0.0725 - val_acc: 1.0000\n",
            "Epoch 18/100\n",
            "27/27 [==============================] - 0s 4ms/step - loss: 4.1437e-04 - acc: 1.0000 - val_loss: 0.0701 - val_acc: 1.0000\n",
            "Epoch 19/100\n",
            "27/27 [==============================] - 0s 4ms/step - loss: 3.8969e-04 - acc: 1.0000 - val_loss: 0.0680 - val_acc: 1.0000\n",
            "Epoch 20/100\n",
            "27/27 [==============================] - 0s 4ms/step - loss: 3.6837e-04 - acc: 1.0000 - val_loss: 0.0662 - val_acc: 1.0000\n",
            "Epoch 21/100\n",
            "27/27 [==============================] - 0s 4ms/step - loss: 3.4981e-04 - acc: 1.0000 - val_loss: 0.0646 - val_acc: 1.0000\n",
            "Epoch 22/100\n",
            "27/27 [==============================] - 0s 4ms/step - loss: 3.3352e-04 - acc: 1.0000 - val_loss: 0.0632 - val_acc: 1.0000\n",
            "Epoch 23/100\n",
            "27/27 [==============================] - 0s 4ms/step - loss: 3.1916e-04 - acc: 1.0000 - val_loss: 0.0620 - val_acc: 1.0000\n",
            "Epoch 24/100\n",
            "27/27 [==============================] - 0s 4ms/step - loss: 3.0638e-04 - acc: 1.0000 - val_loss: 0.0609 - val_acc: 1.0000\n",
            "Epoch 25/100\n",
            "27/27 [==============================] - 0s 4ms/step - loss: 2.9493e-04 - acc: 1.0000 - val_loss: 0.0598 - val_acc: 1.0000\n",
            "Epoch 26/100\n",
            "27/27 [==============================] - 0s 4ms/step - loss: 2.8455e-04 - acc: 1.0000 - val_loss: 0.0589 - val_acc: 1.0000\n",
            "Epoch 27/100\n",
            "27/27 [==============================] - 0s 4ms/step - loss: 2.7510e-04 - acc: 1.0000 - val_loss: 0.0581 - val_acc: 1.0000\n",
            "Epoch 28/100\n",
            "27/27 [==============================] - 0s 4ms/step - loss: 2.6654e-04 - acc: 1.0000 - val_loss: 0.0574 - val_acc: 1.0000\n",
            "Epoch 29/100\n",
            "27/27 [==============================] - 0s 4ms/step - loss: 2.5873e-04 - acc: 1.0000 - val_loss: 0.0567 - val_acc: 1.0000\n",
            "Epoch 30/100\n",
            "27/27 [==============================] - 0s 4ms/step - loss: 2.5151e-04 - acc: 1.0000 - val_loss: 0.0561 - val_acc: 1.0000\n",
            "Epoch 31/100\n",
            "27/27 [==============================] - 0s 4ms/step - loss: 2.4488e-04 - acc: 1.0000 - val_loss: 0.0555 - val_acc: 1.0000\n",
            "Epoch 32/100\n",
            "27/27 [==============================] - 0s 4ms/step - loss: 2.3872e-04 - acc: 1.0000 - val_loss: 0.0550 - val_acc: 1.0000\n",
            "Epoch 33/100\n",
            "27/27 [==============================] - 0s 4ms/step - loss: 2.3299e-04 - acc: 1.0000 - val_loss: 0.0546 - val_acc: 1.0000\n",
            "Epoch 34/100\n",
            "27/27 [==============================] - 0s 4ms/step - loss: 2.2764e-04 - acc: 1.0000 - val_loss: 0.0542 - val_acc: 1.0000\n",
            "Epoch 35/100\n",
            "27/27 [==============================] - 0s 4ms/step - loss: 2.2263e-04 - acc: 1.0000 - val_loss: 0.0538 - val_acc: 1.0000\n",
            "Epoch 36/100\n",
            "27/27 [==============================] - 0s 4ms/step - loss: 2.1794e-04 - acc: 1.0000 - val_loss: 0.0535 - val_acc: 1.0000\n",
            "Epoch 37/100\n",
            "27/27 [==============================] - 0s 4ms/step - loss: 2.1356e-04 - acc: 1.0000 - val_loss: 0.0532 - val_acc: 1.0000\n",
            "Epoch 38/100\n",
            "27/27 [==============================] - 0s 4ms/step - loss: 2.0941e-04 - acc: 1.0000 - val_loss: 0.0529 - val_acc: 1.0000\n",
            "Epoch 39/100\n",
            "27/27 [==============================] - 0s 4ms/step - loss: 2.0550e-04 - acc: 1.0000 - val_loss: 0.0527 - val_acc: 1.0000\n",
            "Epoch 40/100\n",
            "27/27 [==============================] - 0s 4ms/step - loss: 2.0180e-04 - acc: 1.0000 - val_loss: 0.0525 - val_acc: 1.0000\n",
            "Epoch 41/100\n",
            "27/27 [==============================] - 0s 4ms/step - loss: 1.9828e-04 - acc: 1.0000 - val_loss: 0.0523 - val_acc: 1.0000\n",
            "Epoch 42/100\n",
            "27/27 [==============================] - 0s 4ms/step - loss: 1.9495e-04 - acc: 1.0000 - val_loss: 0.0521 - val_acc: 1.0000\n",
            "Epoch 43/100\n",
            "27/27 [==============================] - 0s 4ms/step - loss: 1.9179e-04 - acc: 1.0000 - val_loss: 0.0519 - val_acc: 1.0000\n",
            "Epoch 44/100\n",
            "27/27 [==============================] - 0s 4ms/step - loss: 1.8878e-04 - acc: 1.0000 - val_loss: 0.0518 - val_acc: 1.0000\n",
            "Epoch 45/100\n",
            "27/27 [==============================] - 0s 4ms/step - loss: 1.8588e-04 - acc: 1.0000 - val_loss: 0.0516 - val_acc: 1.0000\n",
            "Epoch 46/100\n",
            "27/27 [==============================] - 0s 4ms/step - loss: 1.8314e-04 - acc: 1.0000 - val_loss: 0.0515 - val_acc: 1.0000\n",
            "Epoch 47/100\n",
            "27/27 [==============================] - 0s 4ms/step - loss: 1.8050e-04 - acc: 1.0000 - val_loss: 0.0513 - val_acc: 1.0000\n",
            "Epoch 48/100\n",
            "27/27 [==============================] - 0s 4ms/step - loss: 1.7796e-04 - acc: 1.0000 - val_loss: 0.0512 - val_acc: 1.0000\n",
            "Epoch 49/100\n",
            "27/27 [==============================] - 0s 4ms/step - loss: 1.7552e-04 - acc: 1.0000 - val_loss: 0.0511 - val_acc: 1.0000\n",
            "Epoch 50/100\n",
            "27/27 [==============================] - 0s 4ms/step - loss: 1.7319e-04 - acc: 1.0000 - val_loss: 0.0510 - val_acc: 1.0000\n",
            "Epoch 51/100\n",
            "27/27 [==============================] - 0s 4ms/step - loss: 1.7094e-04 - acc: 1.0000 - val_loss: 0.0509 - val_acc: 1.0000\n",
            "Epoch 52/100\n",
            "27/27 [==============================] - 0s 4ms/step - loss: 1.6877e-04 - acc: 1.0000 - val_loss: 0.0508 - val_acc: 1.0000\n",
            "Epoch 53/100\n",
            "27/27 [==============================] - 0s 4ms/step - loss: 1.6668e-04 - acc: 1.0000 - val_loss: 0.0508 - val_acc: 1.0000\n",
            "Epoch 54/100\n",
            "27/27 [==============================] - 0s 4ms/step - loss: 1.6467e-04 - acc: 1.0000 - val_loss: 0.0507 - val_acc: 1.0000\n",
            "Epoch 55/100\n",
            "27/27 [==============================] - 0s 4ms/step - loss: 1.6270e-04 - acc: 1.0000 - val_loss: 0.0506 - val_acc: 1.0000\n",
            "Epoch 56/100\n",
            "27/27 [==============================] - 0s 4ms/step - loss: 1.6081e-04 - acc: 1.0000 - val_loss: 0.0506 - val_acc: 1.0000\n",
            "Epoch 57/100\n",
            "27/27 [==============================] - 0s 4ms/step - loss: 1.5899e-04 - acc: 1.0000 - val_loss: 0.0505 - val_acc: 1.0000\n",
            "Epoch 58/100\n",
            "27/27 [==============================] - 0s 4ms/step - loss: 1.5720e-04 - acc: 1.0000 - val_loss: 0.0504 - val_acc: 1.0000\n",
            "Epoch 59/100\n",
            "27/27 [==============================] - 0s 4ms/step - loss: 1.5546e-04 - acc: 1.0000 - val_loss: 0.0504 - val_acc: 1.0000\n",
            "Epoch 60/100\n",
            "27/27 [==============================] - 0s 4ms/step - loss: 1.5379e-04 - acc: 1.0000 - val_loss: 0.0503 - val_acc: 1.0000\n",
            "Epoch 61/100\n",
            "27/27 [==============================] - 0s 4ms/step - loss: 1.5214e-04 - acc: 1.0000 - val_loss: 0.0503 - val_acc: 1.0000\n",
            "Epoch 62/100\n",
            "27/27 [==============================] - 0s 4ms/step - loss: 1.5056e-04 - acc: 1.0000 - val_loss: 0.0502 - val_acc: 1.0000\n",
            "Epoch 63/100\n",
            "27/27 [==============================] - 0s 4ms/step - loss: 1.4901e-04 - acc: 1.0000 - val_loss: 0.0502 - val_acc: 1.0000\n",
            "Epoch 64/100\n",
            "27/27 [==============================] - 0s 4ms/step - loss: 1.4748e-04 - acc: 1.0000 - val_loss: 0.0501 - val_acc: 1.0000\n",
            "Epoch 65/100\n",
            "27/27 [==============================] - 0s 4ms/step - loss: 1.4601e-04 - acc: 1.0000 - val_loss: 0.0501 - val_acc: 1.0000\n",
            "Epoch 66/100\n",
            "27/27 [==============================] - 0s 4ms/step - loss: 1.4459e-04 - acc: 1.0000 - val_loss: 0.0501 - val_acc: 1.0000\n",
            "Epoch 67/100\n",
            "27/27 [==============================] - 0s 4ms/step - loss: 1.4317e-04 - acc: 1.0000 - val_loss: 0.0500 - val_acc: 1.0000\n",
            "Epoch 68/100\n",
            "27/27 [==============================] - 0s 4ms/step - loss: 1.4180e-04 - acc: 1.0000 - val_loss: 0.0500 - val_acc: 1.0000\n",
            "Epoch 69/100\n",
            "27/27 [==============================] - 0s 4ms/step - loss: 1.4046e-04 - acc: 1.0000 - val_loss: 0.0500 - val_acc: 1.0000\n",
            "Epoch 70/100\n",
            "27/27 [==============================] - 0s 4ms/step - loss: 1.3914e-04 - acc: 1.0000 - val_loss: 0.0499 - val_acc: 1.0000\n",
            "Epoch 71/100\n",
            "27/27 [==============================] - 0s 4ms/step - loss: 1.3786e-04 - acc: 1.0000 - val_loss: 0.0499 - val_acc: 1.0000\n",
            "Epoch 72/100\n",
            "27/27 [==============================] - 0s 4ms/step - loss: 1.3660e-04 - acc: 1.0000 - val_loss: 0.0498 - val_acc: 1.0000\n",
            "Epoch 73/100\n",
            "27/27 [==============================] - 0s 4ms/step - loss: 1.3538e-04 - acc: 1.0000 - val_loss: 0.0498 - val_acc: 1.0000\n",
            "Epoch 74/100\n",
            "27/27 [==============================] - 0s 4ms/step - loss: 1.3416e-04 - acc: 1.0000 - val_loss: 0.0498 - val_acc: 1.0000\n",
            "Epoch 75/100\n",
            "27/27 [==============================] - 0s 4ms/step - loss: 1.3298e-04 - acc: 1.0000 - val_loss: 0.0497 - val_acc: 1.0000\n",
            "Epoch 76/100\n",
            "27/27 [==============================] - 0s 4ms/step - loss: 1.3182e-04 - acc: 1.0000 - val_loss: 0.0497 - val_acc: 1.0000\n",
            "Epoch 77/100\n",
            "27/27 [==============================] - 0s 4ms/step - loss: 1.3068e-04 - acc: 1.0000 - val_loss: 0.0497 - val_acc: 1.0000\n",
            "Epoch 78/100\n",
            "27/27 [==============================] - 0s 4ms/step - loss: 1.2956e-04 - acc: 1.0000 - val_loss: 0.0497 - val_acc: 1.0000\n",
            "Epoch 79/100\n",
            "27/27 [==============================] - 0s 4ms/step - loss: 1.2847e-04 - acc: 1.0000 - val_loss: 0.0496 - val_acc: 1.0000\n",
            "Epoch 80/100\n",
            "27/27 [==============================] - 0s 4ms/step - loss: 1.2739e-04 - acc: 1.0000 - val_loss: 0.0496 - val_acc: 1.0000\n",
            "Epoch 81/100\n",
            "27/27 [==============================] - 0s 4ms/step - loss: 1.2634e-04 - acc: 1.0000 - val_loss: 0.0496 - val_acc: 1.0000\n",
            "Epoch 82/100\n",
            "27/27 [==============================] - 0s 4ms/step - loss: 1.2529e-04 - acc: 1.0000 - val_loss: 0.0495 - val_acc: 1.0000\n",
            "Epoch 83/100\n",
            "27/27 [==============================] - 0s 4ms/step - loss: 1.2427e-04 - acc: 1.0000 - val_loss: 0.0495 - val_acc: 1.0000\n",
            "Epoch 84/100\n",
            "27/27 [==============================] - 0s 4ms/step - loss: 1.2325e-04 - acc: 1.0000 - val_loss: 0.0495 - val_acc: 1.0000\n",
            "Epoch 85/100\n",
            "27/27 [==============================] - 0s 4ms/step - loss: 1.2227e-04 - acc: 1.0000 - val_loss: 0.0495 - val_acc: 1.0000\n",
            "Epoch 86/100\n",
            "27/27 [==============================] - 0s 4ms/step - loss: 1.2130e-04 - acc: 1.0000 - val_loss: 0.0494 - val_acc: 1.0000\n",
            "Epoch 87/100\n",
            "27/27 [==============================] - 0s 4ms/step - loss: 1.2034e-04 - acc: 1.0000 - val_loss: 0.0494 - val_acc: 1.0000\n",
            "Epoch 88/100\n",
            "27/27 [==============================] - 0s 4ms/step - loss: 1.1940e-04 - acc: 1.0000 - val_loss: 0.0494 - val_acc: 1.0000\n",
            "Epoch 89/100\n",
            "27/27 [==============================] - 0s 4ms/step - loss: 1.1847e-04 - acc: 1.0000 - val_loss: 0.0494 - val_acc: 1.0000\n",
            "Epoch 90/100\n",
            "27/27 [==============================] - 0s 4ms/step - loss: 1.1755e-04 - acc: 1.0000 - val_loss: 0.0493 - val_acc: 1.0000\n",
            "Epoch 91/100\n",
            "27/27 [==============================] - 0s 4ms/step - loss: 1.1665e-04 - acc: 1.0000 - val_loss: 0.0493 - val_acc: 1.0000\n",
            "Epoch 92/100\n",
            "27/27 [==============================] - 0s 4ms/step - loss: 1.1576e-04 - acc: 1.0000 - val_loss: 0.0493 - val_acc: 1.0000\n",
            "Epoch 93/100\n",
            "27/27 [==============================] - 0s 4ms/step - loss: 1.1488e-04 - acc: 1.0000 - val_loss: 0.0493 - val_acc: 1.0000\n",
            "Epoch 94/100\n",
            "27/27 [==============================] - 0s 4ms/step - loss: 1.1402e-04 - acc: 1.0000 - val_loss: 0.0492 - val_acc: 1.0000\n",
            "Epoch 95/100\n",
            "27/27 [==============================] - 0s 4ms/step - loss: 1.1318e-04 - acc: 1.0000 - val_loss: 0.0492 - val_acc: 1.0000\n",
            "Epoch 96/100\n",
            "27/27 [==============================] - 0s 4ms/step - loss: 1.1233e-04 - acc: 1.0000 - val_loss: 0.0492 - val_acc: 1.0000\n",
            "Epoch 97/100\n",
            "27/27 [==============================] - 0s 4ms/step - loss: 1.1150e-04 - acc: 1.0000 - val_loss: 0.0492 - val_acc: 1.0000\n",
            "Epoch 98/100\n",
            "27/27 [==============================] - 0s 4ms/step - loss: 1.1069e-04 - acc: 1.0000 - val_loss: 0.0491 - val_acc: 1.0000\n",
            "Epoch 99/100\n",
            "27/27 [==============================] - 0s 4ms/step - loss: 1.0990e-04 - acc: 1.0000 - val_loss: 0.0491 - val_acc: 1.0000\n",
            "Epoch 100/100\n",
            "27/27 [==============================] - 0s 4ms/step - loss: 1.0911e-04 - acc: 1.0000 - val_loss: 0.0491 - val_acc: 1.0000\n"
          ],
          "name": "stdout"
        }
      ]
    },
    {
      "metadata": {
        "id": "Vy1XXqBShs4_",
        "colab_type": "code",
        "outputId": "5b195cf1-08bf-4c97-f301-ba4c0c9196cd",
        "colab": {
          "base_uri": "https://localhost:8080/",
          "height": 72
        }
      },
      "cell_type": "code",
      "source": [
        "y_pred = model.predict(x_test)\n",
        "y_pred2 = np.argmax(y_pred, axis=1)\n",
        "y_test2 = np.argmax(y_test, axis=1)\n",
        "\n",
        "y_pred_names = [index2name[y_pred2[i]] for i in range(len(y_pred2))]\n",
        "y_test_names = [index2name[y_test2[i]] for i in range(len(y_test2))]\n",
        "\n",
        "count = 0\n",
        "total = len(y_test_names)\n",
        "for i, (y_pred_name, y_test_name) in enumerate(zip(y_pred_names, y_test_names)):\n",
        "  if y_pred_name == y_test_name:\n",
        "    count += 1\n",
        "accuracy = count / total * 100\n",
        "\n",
        "print('정답들:', y_test_names)\n",
        "print('예측들:', y_pred_names)\n",
        "print('정확도:', accuracy)\n"
      ],
      "execution_count": 92,
      "outputs": [
        {
          "output_type": "stream",
          "text": [
            "정답들: ['타르트', '타르트', '티라미수', '마카롱', '마카롱', '티라미수']\n",
            "예측들: ['타르트', '타르트', '티라미수', '타르트', '마카롱', '티라미수']\n",
            "정확도: 83.33333333333334\n"
          ],
          "name": "stdout"
        }
      ]
    },
    {
      "metadata": {
        "id": "SdTsNzQLdYEd",
        "colab_type": "code",
        "colab": {
          "base_uri": "https://localhost:8080/",
          "height": 404
        },
        "outputId": "5a702041-c272-4975-d1d0-4790ef7c98f6"
      },
      "cell_type": "code",
      "source": [
        "import matplotlib.pyplot as plt\n",
        "\n",
        "which_file_index = 3\n",
        "image = x_test\n",
        "label = y_pred_names\n",
        "\n",
        "print(label[which_file_index])\n",
        "plt.imshow(image[which_file_index])\n",
        "plt.show()\n"
      ],
      "execution_count": 94,
      "outputs": [
        {
          "output_type": "stream",
          "text": [
            "Clipping input data to the valid range for imshow with RGB data ([0..1] for floats or [0..255] for integers).\n"
          ],
          "name": "stderr"
        },
        {
          "output_type": "stream",
          "text": [
            "타르트\n"
          ],
          "name": "stdout"
        },
        {
          "output_type": "display_data",
          "data": {
            "image/png": "[encoded data removed]",
            "text/plain": [
              "<Figure size 576x396 with 1 Axes>"
            ]
          },
          "metadata": {
            "tags": []
          }
        }
      ]
    }
  ]
}