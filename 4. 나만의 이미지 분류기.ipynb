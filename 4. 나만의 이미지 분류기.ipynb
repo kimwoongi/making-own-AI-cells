{
  "nbformat": 4,
  "nbformat_minor": 0,
  "metadata": {
    "colab": {
      "name": "4. 나만의 이미지 분류기.ipynb",
      "provenance": [],
      "collapsed_sections": [],
      "include_colab_link": true
    },
    "kernelspec": {
      "name": "python3",
      "display_name": "Python 3"
    },
    "accelerator": "GPU"
  },
  "cells": [
    {
      "cell_type": "markdown",
      "metadata": {
        "id": "view-in-github",
        "colab_type": "text"
      },
      "source": [
        "<a href=\"https://colab.research.google.com/github/kimwoongi/making-own-AI-cells/blob/master/4.%20%EB%82%98%EB%A7%8C%EC%9D%98%20%EC%9D%B4%EB%AF%B8%EC%A7%80%20%EB%B6%84%EB%A5%98%EA%B8%B0.ipynb\" target=\"_parent\"><img src=\"https://colab.research.google.com/assets/colab-badge.svg\" alt=\"Open In Colab\"/></a>"
      ]
    },
    {
      "metadata": {
        "id": "MJvVnvirY-xa"
      },
      "cell_type": "markdown",
      "source": [
        "# 나만의 이미지 분류기"
      ]
    },
    {
      "cell_type": "markdown",
      "source": [
        "### 1. 설정 정의"
      ],
      "metadata": {
        "id": "2i3kmToP8dkh"
      }
    },
    {
      "metadata": {
        "id": "JI6I_EpJfxTN"
      },
      "cell_type": "code",
      "source": [
        "index2name = {\n",
        "    0: '마카롱',\n",
        "    1: '티라미수',\n",
        "    2: '타르트'\n",
        "}\n",
        "\n",
        "몇번학습 = 100\n",
        "학습률 = 1e-7"
      ],
      "execution_count": null,
      "outputs": []
    },
    {
      "cell_type": "markdown",
      "source": [
        "### 2. 구글 드라이브 연동"
      ],
      "metadata": {
        "id": "HVTVOFsa8i48"
      }
    },
    {
      "metadata": {
        "id": "P6PZeQhLc_cJ",
        "outputId": "e1e78e04-dc94-44f9-c455-4bf44a2001c3",
        "colab": {
          "base_uri": "https://localhost:8080/"
        }
      },
      "cell_type": "code",
      "source": [
        "from google.colab import drive\n",
        "drive.mount('/content/gdrive')\n",
        "# drive.mount('/content/gdrive', force_remount=True)\n"
      ],
      "execution_count": null,
      "outputs": [
        {
          "output_type": "stream",
          "name": "stdout",
          "text": [
            "Drive already mounted at /content/gdrive; to attempt to forcibly remount, call drive.mount(\"/content/gdrive\", force_remount=True).\n"
          ]
        }
      ]
    },
    {
      "cell_type": "markdown",
      "source": [
        "### 3. 데이터 로드 및 전처리"
      ],
      "metadata": {
        "id": "Grj6OuYN8qyt"
      }
    },
    {
      "metadata": {
        "id": "NRcSmDxzfLjY",
        "outputId": "bad20d50-dfdd-4cf7-89a1-d98b7cce0f4d",
        "colab": {
          "base_uri": "https://localhost:8080/",
          "height": 353
        }
      },
      "cell_type": "code",
      "source": [
        "import os\n",
        "import cv2\n",
        "import numpy as np\n",
        "import matplotlib.pyplot as plt   \n",
        "\n",
        "train_path = './gdrive/My Drive/Colab Notebooks/myai/train/'\n",
        "test_path = './gdrive/My Drive/Colab Notebooks/myai/test/'\n",
        "train_files = os.listdir(train_path)\n",
        "test_files = os.listdir(test_path)\n",
        "\n",
        "x = [cv2.imread(train_path + file) for file in train_files]\n",
        "x = [cv2.cvtColor(each, cv2.COLOR_BGR2RGB) / 255 for each in x]\n",
        "x = np.asarray([cv2.resize(each, (32, 32), interpolation=cv2.INTER_CUBIC) for each in x])\n",
        "\n",
        "x_test = [cv2.imread(test_path + file) for file in test_files]\n",
        "x_test = [cv2.cvtColor(each, cv2.COLOR_BGR2RGB) / 255for each in x_test]\n",
        "x_test = np.asarray([cv2.resize(each, (32, 32), interpolation=cv2.INTER_CUBIC) for each in x_test])\n",
        "\n",
        "y = [int(file.split('_')[0]) for file in train_files] \n",
        "y_test = [int(file.split('_')[0]) for file in test_files] \n",
        "num_classes = len(index2name)\n",
        "eye = np.eye(num_classes)\n",
        "y = np.asarray([eye[each] for each in y])\n",
        "y_test = np.asarray([eye[each] for each in y_test])\n",
        "\n",
        "print('num_classes:', num_classes)\n",
        "print('x_shape:', x.shape)\n",
        "print('y_shape:', y.shape)\n",
        "\n",
        "i = 0\n",
        "plt.imshow(x[i])                                     # i번째 데이터를 이미지로 보이기\n",
        "plt.show()\n",
        "print(f'{i}번째 데이터 : {index2name[y[i][0]]}')"
      ],
      "execution_count": null,
      "outputs": [
        {
          "output_type": "stream",
          "name": "stderr",
          "text": [
            "Clipping input data to the valid range for imshow with RGB data ([0..1] for floats or [0..255] for integers).\n"
          ]
        },
        {
          "output_type": "stream",
          "name": "stdout",
          "text": [
            "num_classes: 3\n",
            "x_shape: (30, 32, 32, 3)\n",
            "y_shape: (30, 3)\n"
          ]
        },
        {
          "output_type": "display_data",
          "data": {
            "image/png": "[encoded data removed]",
            "text/plain": [
              "<Figure size 432x288 with 1 Axes>"
            ]
          },
          "metadata": {
            "needs_background": "light"
          }
        },
        {
          "output_type": "stream",
          "name": "stdout",
          "text": [
            "0번째 데이터 : 티라미수\n"
          ]
        }
      ]
    },
    {
      "metadata": {
        "id": "Cu9Rlc17Wfiz"
      },
      "cell_type": "code",
      "source": [
        "# ls './gdrive/My Drive/Colab Notebooks/myai/'"
      ],
      "execution_count": null,
      "outputs": []
    },
    {
      "cell_type": "code",
      "source": [
        "from keras import optimizers\n",
        "dir(optimizers)\n",
        "dir(optimizers.gradient_descent_v2)"
      ],
      "metadata": {
        "colab": {
          "base_uri": "https://localhost:8080/"
        },
        "id": "HW1ZLwBU-dnY",
        "outputId": "9b241fbb-becf-433d-dbac-0dad427c4286"
      },
      "execution_count": null,
      "outputs": [
        {
          "output_type": "execute_result",
          "data": {
            "text/plain": [
              "['SGD',\n",
              " '__builtins__',\n",
              " '__cached__',\n",
              " '__doc__',\n",
              " '__file__',\n",
              " '__loader__',\n",
              " '__name__',\n",
              " '__package__',\n",
              " '__spec__',\n",
              " 'keras_export',\n",
              " 'optimizer_v2',\n",
              " 'tf']"
            ]
          },
          "metadata": {},
          "execution_count": 5
        }
      ]
    },
    {
      "cell_type": "markdown",
      "source": [
        "### 4. 모델"
      ],
      "metadata": {
        "id": "9FGpxX2b81wG"
      }
    },
    {
      "metadata": {
        "id": "JGO805Igq4v8",
        "outputId": "0f5e5e3a-4a00-44f1-f529-5fff3a310a70",
        "colab": {
          "base_uri": "https://localhost:8080/"
        }
      },
      "cell_type": "code",
      "source": [
        "from keras.models import Sequential\n",
        "from keras.layers import Conv2D, BatchNormalization, Activation, MaxPool2D, Flatten, Dense\n",
        "from keras.optimizers import adam_v2, gradient_descent_v2\n",
        "\n",
        "act = 'tanh'\n",
        "\n",
        "model = Sequential()\n",
        "model.add(Conv2D(64, 3, padding='same', input_shape=(32, 32, 3)))\n",
        "model.add(BatchNormalization())\n",
        "model.add(Activation(act))\n",
        "model.add(Conv2D(64, 3, padding='same'))\n",
        "model.add(BatchNormalization())\n",
        "model.add(Activation(act))\n",
        "model.add(MaxPool2D())\n",
        "\n",
        "model.add(Conv2D(128, (3, 3), padding='same'))\n",
        "model.add(BatchNormalization())\n",
        "model.add(Activation(act))\n",
        "model.add(Conv2D(128, (3, 3), padding='same'))\n",
        "model.add(BatchNormalization())\n",
        "model.add(Activation(act))\n",
        "model.add(MaxPool2D())\n",
        "\n",
        "model.add(Conv2D(256, (3, 3), padding='same'))\n",
        "model.add(BatchNormalization())\n",
        "model.add(Activation(act))\n",
        "model.add(Conv2D(256, (3, 3), padding='same'))\n",
        "model.add(BatchNormalization())\n",
        "model.add(Activation(act))\n",
        "model.add(Conv2D(256, (3, 3), padding='same'))\n",
        "model.add(BatchNormalization())\n",
        "model.add(Activation(act))\n",
        "model.add(MaxPool2D())\n",
        "\n",
        "model.add(Conv2D(512, (3, 3), padding='same'))\n",
        "model.add(BatchNormalization())\n",
        "model.add(Activation(act))\n",
        "model.add(Conv2D(512, (3, 3), padding='same'))\n",
        "model.add(BatchNormalization())\n",
        "model.add(Activation(act))\n",
        "model.add(Conv2D(512, (3, 3), padding='same'))\n",
        "model.add(MaxPool2D())\n",
        "\n",
        "model.add(Conv2D(512, (3, 3), padding='same'))\n",
        "model.add(BatchNormalization())\n",
        "model.add(Activation(act))\n",
        "model.add(Conv2D(512, (3, 3), padding='same'))\n",
        "model.add(BatchNormalization())\n",
        "model.add(Activation(act))\n",
        "model.add(Conv2D(512, (3, 3), padding='same'))\n",
        "model.add(MaxPool2D())\n",
        "\n",
        "model.add(Flatten())\n",
        "model.add(Dense(512))\n",
        "model.add(BatchNormalization())\n",
        "model.add(Activation(act))\n",
        "model.add(Dense(num_classes, activation='softmax'))\n",
        "\n",
        "# adam = adam_v2.Adam(lr=몇번학습)\n",
        "# sgd = gradient_descent_v2.SGD(lr=몇번학습)\n",
        "model.compile('adam', 'categorical_crossentropy', ['accuracy'])\n",
        "model.summary()\n"
      ],
      "execution_count": null,
      "outputs": [
        {
          "output_type": "stream",
          "name": "stdout",
          "text": [
            "Model: \"sequential\"\n",
            "_________________________________________________________________\n",
            " Layer (type)                Output Shape              Param #   \n",
            "=================================================================\n",
            " conv2d (Conv2D)             (None, 32, 32, 64)        1792      \n",
            "                                                                 \n",
            " batch_normalization (BatchN  (None, 32, 32, 64)       256       \n",
            " ormalization)                                                   \n",
            "                                                                 \n",
            " activation (Activation)     (None, 32, 32, 64)        0         \n",
            "                                                                 \n",
            " conv2d_1 (Conv2D)           (None, 32, 32, 64)        36928     \n",
            "                                                                 \n",
            " batch_normalization_1 (Batc  (None, 32, 32, 64)       256       \n",
            " hNormalization)                                                 \n",
            "                                                                 \n",
            " activation_1 (Activation)   (None, 32, 32, 64)        0         \n",
            "                                                                 \n",
            " max_pooling2d (MaxPooling2D  (None, 16, 16, 64)       0         \n",
            " )                                                               \n",
            "                                                                 \n",
            " conv2d_2 (Conv2D)           (None, 16, 16, 128)       73856     \n",
            "                                                                 \n",
            " batch_normalization_2 (Batc  (None, 16, 16, 128)      512       \n",
            " hNormalization)                                                 \n",
            "                                                                 \n",
            " activation_2 (Activation)   (None, 16, 16, 128)       0         \n",
            "                                                                 \n",
            " conv2d_3 (Conv2D)           (None, 16, 16, 128)       147584    \n",
            "                                                                 \n",
            " batch_normalization_3 (Batc  (None, 16, 16, 128)      512       \n",
            " hNormalization)                                                 \n",
            "                                                                 \n",
            " activation_3 (Activation)   (None, 16, 16, 128)       0         \n",
            "                                                                 \n",
            " max_pooling2d_1 (MaxPooling  (None, 8, 8, 128)        0         \n",
            " 2D)                                                             \n",
            "                                                                 \n",
            " conv2d_4 (Conv2D)           (None, 8, 8, 256)         295168    \n",
            "                                                                 \n",
            " batch_normalization_4 (Batc  (None, 8, 8, 256)        1024      \n",
            " hNormalization)                                                 \n",
            "                                                                 \n",
            " activation_4 (Activation)   (None, 8, 8, 256)         0         \n",
            "                                                                 \n",
            " conv2d_5 (Conv2D)           (None, 8, 8, 256)         590080    \n",
            "                                                                 \n",
            " batch_normalization_5 (Batc  (None, 8, 8, 256)        1024      \n",
            " hNormalization)                                                 \n",
            "                                                                 \n",
            " activation_5 (Activation)   (None, 8, 8, 256)         0         \n",
            "                                                                 \n",
            " conv2d_6 (Conv2D)           (None, 8, 8, 256)         590080    \n",
            "                                                                 \n",
            " batch_normalization_6 (Batc  (None, 8, 8, 256)        1024      \n",
            " hNormalization)                                                 \n",
            "                                                                 \n",
            " activation_6 (Activation)   (None, 8, 8, 256)         0         \n",
            "                                                                 \n",
            " max_pooling2d_2 (MaxPooling  (None, 4, 4, 256)        0         \n",
            " 2D)                                                             \n",
            "                                                                 \n",
            " conv2d_7 (Conv2D)           (None, 4, 4, 512)         1180160   \n",
            "                                                                 \n",
            " batch_normalization_7 (Batc  (None, 4, 4, 512)        2048      \n",
            " hNormalization)                                                 \n",
            "                                                                 \n",
            " activation_7 (Activation)   (None, 4, 4, 512)         0         \n",
            "                                                                 \n",
            " conv2d_8 (Conv2D)           (None, 4, 4, 512)         2359808   \n",
            "                                                                 \n",
            " batch_normalization_8 (Batc  (None, 4, 4, 512)        2048      \n",
            " hNormalization)                                                 \n",
            "                                                                 \n",
            " activation_8 (Activation)   (None, 4, 4, 512)         0         \n",
            "                                                                 \n",
            " conv2d_9 (Conv2D)           (None, 4, 4, 512)         2359808   \n",
            "                                                                 \n",
            " max_pooling2d_3 (MaxPooling  (None, 2, 2, 512)        0         \n",
            " 2D)                                                             \n",
            "                                                                 \n",
            " conv2d_10 (Conv2D)          (None, 2, 2, 512)         2359808   \n",
            "                                                                 \n",
            " batch_normalization_9 (Batc  (None, 2, 2, 512)        2048      \n",
            " hNormalization)                                                 \n",
            "                                                                 \n",
            " activation_9 (Activation)   (None, 2, 2, 512)         0         \n",
            "                                                                 \n",
            " conv2d_11 (Conv2D)          (None, 2, 2, 512)         2359808   \n",
            "                                                                 \n",
            " batch_normalization_10 (Bat  (None, 2, 2, 512)        2048      \n",
            " chNormalization)                                                \n",
            "                                                                 \n",
            " activation_10 (Activation)  (None, 2, 2, 512)         0         \n",
            "                                                                 \n",
            " conv2d_12 (Conv2D)          (None, 2, 2, 512)         2359808   \n",
            "                                                                 \n",
            " max_pooling2d_4 (MaxPooling  (None, 1, 1, 512)        0         \n",
            " 2D)                                                             \n",
            "                                                                 \n",
            " flatten (Flatten)           (None, 512)               0         \n",
            "                                                                 \n",
            " dense (Dense)               (None, 512)               262656    \n",
            "                                                                 \n",
            " batch_normalization_11 (Bat  (None, 512)              2048      \n",
            " chNormalization)                                                \n",
            "                                                                 \n",
            " activation_11 (Activation)  (None, 512)               0         \n",
            "                                                                 \n",
            " dense_1 (Dense)             (None, 3)                 1539      \n",
            "                                                                 \n",
            "=================================================================\n",
            "Total params: 14,993,731\n",
            "Trainable params: 14,986,307\n",
            "Non-trainable params: 7,424\n",
            "_________________________________________________________________\n"
          ]
        }
      ]
    },
    {
      "cell_type": "markdown",
      "source": [
        "### 5. 학습"
      ],
      "metadata": {
        "id": "Bgh0IJvP84eE"
      }
    },
    {
      "metadata": {
        "id": "3qbxeTYUf32l",
        "outputId": "b4a32573-b9de-4abe-caa9-2fa1fc439407",
        "colab": {
          "base_uri": "https://localhost:8080/"
        }
      },
      "cell_type": "code",
      "source": [
        "history = model.fit(x, y, epochs=몇번학습, validation_data = (x_test, y_test))\n"
      ],
      "execution_count": null,
      "outputs": [
        {
          "output_type": "stream",
          "name": "stdout",
          "text": [
            "Epoch 1/100\n",
            "1/1 [==============================] - 11s 11s/step - loss: 1.3277 - accuracy: 0.4000 - val_loss: 1.0683 - val_accuracy: 0.5000\n",
            "Epoch 2/100\n",
            "1/1 [==============================] - 0s 106ms/step - loss: 0.3023 - accuracy: 0.8333 - val_loss: 2.0492 - val_accuracy: 0.5000\n",
            "Epoch 3/100\n",
            "1/1 [==============================] - 0s 107ms/step - loss: 5.7003 - accuracy: 0.3667 - val_loss: 3.3626 - val_accuracy: 0.3333\n",
            "Epoch 4/100\n",
            "1/1 [==============================] - 0s 103ms/step - loss: 3.7476 - accuracy: 0.3333 - val_loss: 4.2386 - val_accuracy: 0.3333\n",
            "Epoch 5/100\n",
            "1/1 [==============================] - 0s 103ms/step - loss: 4.3396 - accuracy: 0.5000 - val_loss: 1.5472 - val_accuracy: 0.3333\n",
            "Epoch 6/100\n",
            "1/1 [==============================] - 0s 101ms/step - loss: 1.3982 - accuracy: 0.6000 - val_loss: 2.1041 - val_accuracy: 0.3333\n",
            "Epoch 7/100\n",
            "1/1 [==============================] - 0s 109ms/step - loss: 0.6767 - accuracy: 0.7333 - val_loss: 2.4865 - val_accuracy: 0.3333\n",
            "Epoch 8/100\n",
            "1/1 [==============================] - 0s 108ms/step - loss: 0.5460 - accuracy: 0.8667 - val_loss: 2.2144 - val_accuracy: 0.3333\n",
            "Epoch 9/100\n",
            "1/1 [==============================] - 0s 106ms/step - loss: 0.4661 - accuracy: 0.8000 - val_loss: 1.7199 - val_accuracy: 0.5000\n",
            "Epoch 10/100\n",
            "1/1 [==============================] - 0s 103ms/step - loss: 0.3957 - accuracy: 0.7667 - val_loss: 1.4597 - val_accuracy: 0.3333\n",
            "Epoch 11/100\n",
            "1/1 [==============================] - 0s 101ms/step - loss: 0.3420 - accuracy: 0.9000 - val_loss: 1.3011 - val_accuracy: 0.3333\n",
            "Epoch 12/100\n",
            "1/1 [==============================] - 0s 103ms/step - loss: 0.2700 - accuracy: 0.9333 - val_loss: 1.2561 - val_accuracy: 0.5000\n",
            "Epoch 13/100\n",
            "1/1 [==============================] - 0s 102ms/step - loss: 0.1883 - accuracy: 0.9333 - val_loss: 1.5114 - val_accuracy: 0.5000\n",
            "Epoch 14/100\n",
            "1/1 [==============================] - 0s 104ms/step - loss: 0.1504 - accuracy: 0.9667 - val_loss: 2.0434 - val_accuracy: 0.3333\n",
            "Epoch 15/100\n",
            "1/1 [==============================] - 0s 106ms/step - loss: 0.1393 - accuracy: 0.9667 - val_loss: 2.5900 - val_accuracy: 0.3333\n",
            "Epoch 16/100\n",
            "1/1 [==============================] - 0s 104ms/step - loss: 0.1289 - accuracy: 0.9667 - val_loss: 3.0004 - val_accuracy: 0.3333\n",
            "Epoch 17/100\n",
            "1/1 [==============================] - 0s 119ms/step - loss: 0.1116 - accuracy: 0.9667 - val_loss: 3.2075 - val_accuracy: 0.3333\n",
            "Epoch 18/100\n",
            "1/1 [==============================] - 0s 106ms/step - loss: 0.0680 - accuracy: 0.9667 - val_loss: 3.2148 - val_accuracy: 0.3333\n",
            "Epoch 19/100\n",
            "1/1 [==============================] - 0s 104ms/step - loss: 0.0266 - accuracy: 1.0000 - val_loss: 3.1611 - val_accuracy: 0.3333\n",
            "Epoch 20/100\n",
            "1/1 [==============================] - 0s 105ms/step - loss: 0.0203 - accuracy: 1.0000 - val_loss: 3.1019 - val_accuracy: 0.3333\n",
            "Epoch 21/100\n",
            "1/1 [==============================] - 0s 108ms/step - loss: 0.0192 - accuracy: 1.0000 - val_loss: 3.1556 - val_accuracy: 0.3333\n",
            "Epoch 22/100\n",
            "1/1 [==============================] - 0s 97ms/step - loss: 0.0186 - accuracy: 1.0000 - val_loss: 3.4363 - val_accuracy: 0.3333\n",
            "Epoch 23/100\n",
            "1/1 [==============================] - 0s 99ms/step - loss: 0.0105 - accuracy: 1.0000 - val_loss: 3.7766 - val_accuracy: 0.3333\n",
            "Epoch 24/100\n",
            "1/1 [==============================] - 0s 101ms/step - loss: 0.0051 - accuracy: 1.0000 - val_loss: 4.0825 - val_accuracy: 0.3333\n",
            "Epoch 25/100\n",
            "1/1 [==============================] - 0s 100ms/step - loss: 0.0030 - accuracy: 1.0000 - val_loss: 4.3441 - val_accuracy: 0.3333\n",
            "Epoch 26/100\n",
            "1/1 [==============================] - 0s 101ms/step - loss: 0.0022 - accuracy: 1.0000 - val_loss: 4.5620 - val_accuracy: 0.3333\n",
            "Epoch 27/100\n",
            "1/1 [==============================] - 0s 106ms/step - loss: 0.0017 - accuracy: 1.0000 - val_loss: 4.7422 - val_accuracy: 0.3333\n",
            "Epoch 28/100\n",
            "1/1 [==============================] - 0s 103ms/step - loss: 0.0015 - accuracy: 1.0000 - val_loss: 4.8903 - val_accuracy: 0.3333\n",
            "Epoch 29/100\n",
            "1/1 [==============================] - 0s 101ms/step - loss: 0.0013 - accuracy: 1.0000 - val_loss: 5.0119 - val_accuracy: 0.3333\n",
            "Epoch 30/100\n",
            "1/1 [==============================] - 0s 100ms/step - loss: 0.0013 - accuracy: 1.0000 - val_loss: 5.1126 - val_accuracy: 0.3333\n",
            "Epoch 31/100\n",
            "1/1 [==============================] - 0s 99ms/step - loss: 0.0012 - accuracy: 1.0000 - val_loss: 5.1959 - val_accuracy: 0.3333\n",
            "Epoch 32/100\n",
            "1/1 [==============================] - 0s 107ms/step - loss: 0.0012 - accuracy: 1.0000 - val_loss: 5.2634 - val_accuracy: 0.3333\n",
            "Epoch 33/100\n",
            "1/1 [==============================] - 0s 102ms/step - loss: 0.0012 - accuracy: 1.0000 - val_loss: 5.3173 - val_accuracy: 0.3333\n",
            "Epoch 34/100\n",
            "1/1 [==============================] - 0s 103ms/step - loss: 0.0012 - accuracy: 1.0000 - val_loss: 5.3567 - val_accuracy: 0.3333\n",
            "Epoch 35/100\n",
            "1/1 [==============================] - 0s 101ms/step - loss: 0.0011 - accuracy: 1.0000 - val_loss: 5.3788 - val_accuracy: 0.3333\n",
            "Epoch 36/100\n",
            "1/1 [==============================] - 0s 108ms/step - loss: 0.0011 - accuracy: 1.0000 - val_loss: 5.3840 - val_accuracy: 0.3333\n",
            "Epoch 37/100\n",
            "1/1 [==============================] - 0s 101ms/step - loss: 9.7213e-04 - accuracy: 1.0000 - val_loss: 5.3701 - val_accuracy: 0.3333\n",
            "Epoch 38/100\n",
            "1/1 [==============================] - 0s 100ms/step - loss: 8.8586e-04 - accuracy: 1.0000 - val_loss: 5.3348 - val_accuracy: 0.3333\n",
            "Epoch 39/100\n",
            "1/1 [==============================] - 0s 103ms/step - loss: 7.9971e-04 - accuracy: 1.0000 - val_loss: 5.2710 - val_accuracy: 0.3333\n",
            "Epoch 40/100\n",
            "1/1 [==============================] - 0s 109ms/step - loss: 7.1901e-04 - accuracy: 1.0000 - val_loss: 5.1794 - val_accuracy: 0.3333\n",
            "Epoch 41/100\n",
            "1/1 [==============================] - 0s 100ms/step - loss: 6.4705e-04 - accuracy: 1.0000 - val_loss: 5.0668 - val_accuracy: 0.3333\n",
            "Epoch 42/100\n",
            "1/1 [==============================] - 0s 99ms/step - loss: 5.8505e-04 - accuracy: 1.0000 - val_loss: 4.9219 - val_accuracy: 0.3333\n",
            "Epoch 43/100\n",
            "1/1 [==============================] - 0s 100ms/step - loss: 5.3315e-04 - accuracy: 1.0000 - val_loss: 4.7531 - val_accuracy: 0.3333\n",
            "Epoch 44/100\n",
            "1/1 [==============================] - 0s 107ms/step - loss: 4.9007e-04 - accuracy: 1.0000 - val_loss: 4.5734 - val_accuracy: 0.3333\n",
            "Epoch 45/100\n",
            "1/1 [==============================] - 0s 108ms/step - loss: 4.5446e-04 - accuracy: 1.0000 - val_loss: 4.4104 - val_accuracy: 0.5000\n",
            "Epoch 46/100\n",
            "1/1 [==============================] - 0s 100ms/step - loss: 4.2505e-04 - accuracy: 1.0000 - val_loss: 4.2709 - val_accuracy: 0.5000\n",
            "Epoch 47/100\n",
            "1/1 [==============================] - 0s 100ms/step - loss: 4.0055e-04 - accuracy: 1.0000 - val_loss: 4.1363 - val_accuracy: 0.5000\n",
            "Epoch 48/100\n",
            "1/1 [==============================] - 0s 108ms/step - loss: 3.8012e-04 - accuracy: 1.0000 - val_loss: 3.9884 - val_accuracy: 0.5000\n",
            "Epoch 49/100\n",
            "1/1 [==============================] - 0s 101ms/step - loss: 3.6291e-04 - accuracy: 1.0000 - val_loss: 3.8238 - val_accuracy: 0.5000\n",
            "Epoch 50/100\n",
            "1/1 [==============================] - 0s 98ms/step - loss: 3.4824e-04 - accuracy: 1.0000 - val_loss: 3.7111 - val_accuracy: 0.5000\n",
            "Epoch 51/100\n",
            "1/1 [==============================] - 0s 103ms/step - loss: 3.3553e-04 - accuracy: 1.0000 - val_loss: 3.7375 - val_accuracy: 0.5000\n",
            "Epoch 52/100\n",
            "1/1 [==============================] - 0s 101ms/step - loss: 3.2428e-04 - accuracy: 1.0000 - val_loss: 3.8197 - val_accuracy: 0.5000\n",
            "Epoch 53/100\n",
            "1/1 [==============================] - 0s 102ms/step - loss: 3.1411e-04 - accuracy: 1.0000 - val_loss: 3.8631 - val_accuracy: 0.5000\n",
            "Epoch 54/100\n",
            "1/1 [==============================] - 0s 112ms/step - loss: 3.0485e-04 - accuracy: 1.0000 - val_loss: 3.8532 - val_accuracy: 0.5000\n",
            "Epoch 55/100\n",
            "1/1 [==============================] - 0s 106ms/step - loss: 2.9627e-04 - accuracy: 1.0000 - val_loss: 3.7839 - val_accuracy: 0.5000\n",
            "Epoch 56/100\n",
            "1/1 [==============================] - 0s 99ms/step - loss: 2.8825e-04 - accuracy: 1.0000 - val_loss: 3.6708 - val_accuracy: 0.5000\n",
            "Epoch 57/100\n",
            "1/1 [==============================] - 0s 102ms/step - loss: 2.8066e-04 - accuracy: 1.0000 - val_loss: 3.5107 - val_accuracy: 0.5000\n",
            "Epoch 58/100\n",
            "1/1 [==============================] - 0s 101ms/step - loss: 2.7348e-04 - accuracy: 1.0000 - val_loss: 3.2897 - val_accuracy: 0.5000\n",
            "Epoch 59/100\n",
            "1/1 [==============================] - 0s 106ms/step - loss: 2.6661e-04 - accuracy: 1.0000 - val_loss: 3.0225 - val_accuracy: 0.5000\n",
            "Epoch 60/100\n",
            "1/1 [==============================] - 0s 102ms/step - loss: 2.6009e-04 - accuracy: 1.0000 - val_loss: 2.7100 - val_accuracy: 0.5000\n",
            "Epoch 61/100\n",
            "1/1 [==============================] - 0s 103ms/step - loss: 2.5395e-04 - accuracy: 1.0000 - val_loss: 2.3422 - val_accuracy: 0.5000\n",
            "Epoch 62/100\n",
            "1/1 [==============================] - 0s 104ms/step - loss: 2.4799e-04 - accuracy: 1.0000 - val_loss: 1.9074 - val_accuracy: 0.5000\n",
            "Epoch 63/100\n",
            "1/1 [==============================] - 0s 114ms/step - loss: 2.4229e-04 - accuracy: 1.0000 - val_loss: 1.4174 - val_accuracy: 0.5000\n",
            "Epoch 64/100\n",
            "1/1 [==============================] - 0s 106ms/step - loss: 2.3683e-04 - accuracy: 1.0000 - val_loss: 0.9348 - val_accuracy: 0.5000\n",
            "Epoch 65/100\n",
            "1/1 [==============================] - 0s 102ms/step - loss: 2.3161e-04 - accuracy: 1.0000 - val_loss: 0.6094 - val_accuracy: 0.8333\n",
            "Epoch 66/100\n",
            "1/1 [==============================] - 0s 101ms/step - loss: 2.2660e-04 - accuracy: 1.0000 - val_loss: 0.4935 - val_accuracy: 0.8333\n",
            "Epoch 67/100\n",
            "1/1 [==============================] - 0s 105ms/step - loss: 2.2179e-04 - accuracy: 1.0000 - val_loss: 0.4980 - val_accuracy: 0.6667\n",
            "Epoch 68/100\n",
            "1/1 [==============================] - 0s 102ms/step - loss: 2.1715e-04 - accuracy: 1.0000 - val_loss: 0.5641 - val_accuracy: 0.6667\n",
            "Epoch 69/100\n",
            "1/1 [==============================] - 0s 100ms/step - loss: 2.1270e-04 - accuracy: 1.0000 - val_loss: 0.6657 - val_accuracy: 0.6667\n",
            "Epoch 70/100\n",
            "1/1 [==============================] - 0s 99ms/step - loss: 2.0841e-04 - accuracy: 1.0000 - val_loss: 0.7879 - val_accuracy: 0.6667\n",
            "Epoch 71/100\n",
            "1/1 [==============================] - 0s 102ms/step - loss: 2.0432e-04 - accuracy: 1.0000 - val_loss: 0.9172 - val_accuracy: 0.6667\n",
            "Epoch 72/100\n",
            "1/1 [==============================] - 0s 106ms/step - loss: 2.0039e-04 - accuracy: 1.0000 - val_loss: 1.0445 - val_accuracy: 0.6667\n",
            "Epoch 73/100\n",
            "1/1 [==============================] - 0s 107ms/step - loss: 1.9661e-04 - accuracy: 1.0000 - val_loss: 1.1673 - val_accuracy: 0.8333\n",
            "Epoch 74/100\n",
            "1/1 [==============================] - 0s 99ms/step - loss: 1.9298e-04 - accuracy: 1.0000 - val_loss: 1.2841 - val_accuracy: 0.8333\n",
            "Epoch 75/100\n",
            "1/1 [==============================] - 0s 108ms/step - loss: 1.8952e-04 - accuracy: 1.0000 - val_loss: 1.3898 - val_accuracy: 0.8333\n",
            "Epoch 76/100\n",
            "1/1 [==============================] - 0s 99ms/step - loss: 1.8619e-04 - accuracy: 1.0000 - val_loss: 1.4837 - val_accuracy: 0.8333\n",
            "Epoch 77/100\n",
            "1/1 [==============================] - 0s 100ms/step - loss: 1.8301e-04 - accuracy: 1.0000 - val_loss: 1.5663 - val_accuracy: 0.8333\n",
            "Epoch 78/100\n",
            "1/1 [==============================] - 0s 100ms/step - loss: 1.7996e-04 - accuracy: 1.0000 - val_loss: 1.6422 - val_accuracy: 0.8333\n",
            "Epoch 79/100\n",
            "1/1 [==============================] - 0s 100ms/step - loss: 1.7702e-04 - accuracy: 1.0000 - val_loss: 1.7093 - val_accuracy: 0.8333\n",
            "Epoch 80/100\n",
            "1/1 [==============================] - 0s 107ms/step - loss: 1.7423e-04 - accuracy: 1.0000 - val_loss: 1.7659 - val_accuracy: 0.8333\n",
            "Epoch 81/100\n",
            "1/1 [==============================] - 0s 101ms/step - loss: 1.7154e-04 - accuracy: 1.0000 - val_loss: 1.8146 - val_accuracy: 0.8333\n",
            "Epoch 82/100\n",
            "1/1 [==============================] - 0s 102ms/step - loss: 1.6896e-04 - accuracy: 1.0000 - val_loss: 1.8577 - val_accuracy: 0.8333\n",
            "Epoch 83/100\n",
            "1/1 [==============================] - 0s 101ms/step - loss: 1.6647e-04 - accuracy: 1.0000 - val_loss: 1.8965 - val_accuracy: 0.8333\n",
            "Epoch 84/100\n",
            "1/1 [==============================] - 0s 101ms/step - loss: 1.6410e-04 - accuracy: 1.0000 - val_loss: 1.9335 - val_accuracy: 0.8333\n",
            "Epoch 85/100\n",
            "1/1 [==============================] - 0s 100ms/step - loss: 1.6179e-04 - accuracy: 1.0000 - val_loss: 1.9683 - val_accuracy: 0.8333\n",
            "Epoch 86/100\n",
            "1/1 [==============================] - 0s 100ms/step - loss: 1.5961e-04 - accuracy: 1.0000 - val_loss: 2.0009 - val_accuracy: 0.8333\n",
            "Epoch 87/100\n",
            "1/1 [==============================] - 0s 99ms/step - loss: 1.5747e-04 - accuracy: 1.0000 - val_loss: 2.0298 - val_accuracy: 0.8333\n",
            "Epoch 88/100\n",
            "1/1 [==============================] - 0s 101ms/step - loss: 1.5544e-04 - accuracy: 1.0000 - val_loss: 2.0536 - val_accuracy: 0.8333\n",
            "Epoch 89/100\n",
            "1/1 [==============================] - 0s 105ms/step - loss: 1.5347e-04 - accuracy: 1.0000 - val_loss: 2.0719 - val_accuracy: 0.8333\n",
            "Epoch 90/100\n",
            "1/1 [==============================] - 0s 102ms/step - loss: 1.5157e-04 - accuracy: 1.0000 - val_loss: 2.0876 - val_accuracy: 0.8333\n",
            "Epoch 91/100\n",
            "1/1 [==============================] - 0s 110ms/step - loss: 1.4975e-04 - accuracy: 1.0000 - val_loss: 2.1033 - val_accuracy: 0.8333\n",
            "Epoch 92/100\n",
            "1/1 [==============================] - 0s 105ms/step - loss: 1.4797e-04 - accuracy: 1.0000 - val_loss: 2.1178 - val_accuracy: 0.8333\n",
            "Epoch 93/100\n",
            "1/1 [==============================] - 0s 105ms/step - loss: 1.4624e-04 - accuracy: 1.0000 - val_loss: 2.1289 - val_accuracy: 0.8333\n",
            "Epoch 94/100\n",
            "1/1 [==============================] - 0s 107ms/step - loss: 1.4457e-04 - accuracy: 1.0000 - val_loss: 2.1389 - val_accuracy: 0.8333\n",
            "Epoch 95/100\n",
            "1/1 [==============================] - 0s 114ms/step - loss: 1.4297e-04 - accuracy: 1.0000 - val_loss: 2.1474 - val_accuracy: 0.8333\n",
            "Epoch 96/100\n",
            "1/1 [==============================] - 0s 102ms/step - loss: 1.4140e-04 - accuracy: 1.0000 - val_loss: 2.1543 - val_accuracy: 0.8333\n",
            "Epoch 97/100\n",
            "1/1 [==============================] - 0s 103ms/step - loss: 1.3989e-04 - accuracy: 1.0000 - val_loss: 2.1604 - val_accuracy: 0.8333\n",
            "Epoch 98/100\n",
            "1/1 [==============================] - 0s 99ms/step - loss: 1.3840e-04 - accuracy: 1.0000 - val_loss: 2.1647 - val_accuracy: 0.8333\n",
            "Epoch 99/100\n",
            "1/1 [==============================] - 0s 101ms/step - loss: 1.3695e-04 - accuracy: 1.0000 - val_loss: 2.1672 - val_accuracy: 0.8333\n",
            "Epoch 100/100\n",
            "1/1 [==============================] - 0s 102ms/step - loss: 1.3556e-04 - accuracy: 1.0000 - val_loss: 2.1681 - val_accuracy: 0.8333\n"
          ]
        }
      ]
    },
    {
      "cell_type": "markdown",
      "source": [
        "### 6. 예측"
      ],
      "metadata": {
        "id": "xV0E95kp86z6"
      }
    },
    {
      "metadata": {
        "id": "Vy1XXqBShs4_",
        "outputId": "ea9f85bc-8d33-4690-ae6f-9184204954fe",
        "colab": {
          "base_uri": "https://localhost:8080/"
        }
      },
      "cell_type": "code",
      "source": [
        "y_pred = model.predict(x_test)\n",
        "y_pred2 = np.argmax(y_pred, axis=1)\n",
        "y_test2 = np.argmax(y_test, axis=1)\n",
        "\n",
        "y_pred_names = [index2name[y_pred2[i]] for i in range(len(y_pred2))]\n",
        "y_test_names = [index2name[y_test2[i]] for i in range(len(y_test2))]\n",
        "\n",
        "count = 0\n",
        "total = len(y_test_names)\n",
        "for i, (y_pred_name, y_test_name) in enumerate(zip(y_pred_names, y_test_names)):\n",
        "  if y_pred_name == y_test_name:\n",
        "    count += 1\n",
        "accuracy = count / total * 100\n",
        "\n",
        "print('정답들:', y_test_names)\n",
        "print('예측들:', y_pred_names)\n",
        "print('정확도:', accuracy)\n"
      ],
      "execution_count": null,
      "outputs": [
        {
          "output_type": "stream",
          "name": "stdout",
          "text": [
            "정답들: ['티라미수', '마카롱', '티라미수', '마카롱', '타르트', '타르트']\n",
            "예측들: ['티라미수', '타르트', '티라미수', '마카롱', '타르트', '타르트']\n",
            "정확도: 83.33333333333334\n"
          ]
        }
      ]
    },
    {
      "metadata": {
        "id": "SdTsNzQLdYEd",
        "outputId": "756e39d8-e446-4c11-adb2-96eccd99579d",
        "colab": {
          "base_uri": "https://localhost:8080/",
          "height": 301
        }
      },
      "cell_type": "code",
      "source": [
        "import matplotlib.pyplot as plt\n",
        "\n",
        "i = 4\n",
        "image = x_test\n",
        "label = y_pred_names\n",
        "\n",
        "print(label[i])\n",
        "plt.imshow(image[i])\n",
        "plt.show()\n"
      ],
      "execution_count": null,
      "outputs": [
        {
          "output_type": "stream",
          "name": "stderr",
          "text": [
            "Clipping input data to the valid range for imshow with RGB data ([0..1] for floats or [0..255] for integers).\n"
          ]
        },
        {
          "output_type": "stream",
          "name": "stdout",
          "text": [
            "타르트\n"
          ]
        },
        {
          "output_type": "display_data",
          "data": {
            "image/png": "[encoded data removed]",
            "text/plain": [
              "<Figure size 432x288 with 1 Axes>"
            ]
          },
          "metadata": {
            "needs_background": "light"
          }
        }
      ]
    }
  ]
}